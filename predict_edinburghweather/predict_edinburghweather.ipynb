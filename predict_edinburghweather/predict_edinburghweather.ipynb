{
 "cells": [
  {
   "cell_type": "markdown",
   "id": "d8eaf7b1",
   "metadata": {},
   "source": [
    "### Predicting Tomorrow's Weather in Edinburgh: implementing regression models\n",
    "\n",
    "In this notebook, I replicate a weather prediction model as presented by Vik Paruchuri from Dataquest. I download a dataset on Edinburgh's UK weather from 1970-2019 to train and test a daily weather prediction model using linear regression.\n",
    "\n",
    "Note: The material that this notebook is based off of can be found here: https://github.com/dataquestio/project-walkthroughs/tree/master/weather"
   ]
  },
  {
   "cell_type": "markdown",
   "id": "48842360",
   "metadata": {},
   "source": [
    "### Download the data"
   ]
  },
  {
   "cell_type": "markdown",
   "id": "8cd324d7",
   "metadata": {},
   "source": [
    "Downloading the data:\n",
    "* https://www.ncdc.noaa.gov/cdo-web/search\n",
    "* search for Edinburgh, UK\n",
    "* download daily summaries from 1970 onwards\n",
    "* documentation for the dataset can be found here: https://www1.ncdc.noaa.gov/pub/data/cdo/documentation/GHCND_documentation.pdf"
   ]
  },
  {
   "cell_type": "markdown",
   "id": "73136baa",
   "metadata": {},
   "source": [
    "### Import necessary library and the dataset"
   ]
  },
  {
   "cell_type": "code",
   "execution_count": 1,
   "id": "db44696b",
   "metadata": {},
   "outputs": [],
   "source": [
    "## Importing necessary libraries\n",
    "import pandas as pd\n",
    "import numpy as np\n",
    "from sklearn.linear_model import Ridge\n",
    "from sklearn.metrics import mean_squared_error\n",
    "from sklearn.metrics import r2_score\n",
    "import math"
   ]
  },
  {
   "cell_type": "code",
   "execution_count": 2,
   "id": "d555f5d4",
   "metadata": {},
   "outputs": [
    {
     "data": {
      "text/html": [
       "<div>\n",
       "<style scoped>\n",
       "    .dataframe tbody tr th:only-of-type {\n",
       "        vertical-align: middle;\n",
       "    }\n",
       "\n",
       "    .dataframe tbody tr th {\n",
       "        vertical-align: top;\n",
       "    }\n",
       "\n",
       "    .dataframe thead th {\n",
       "        text-align: right;\n",
       "    }\n",
       "</style>\n",
       "<table border=\"1\" class=\"dataframe\">\n",
       "  <thead>\n",
       "    <tr style=\"text-align: right;\">\n",
       "      <th></th>\n",
       "      <th>STATION</th>\n",
       "      <th>NAME</th>\n",
       "      <th>LATITUDE</th>\n",
       "      <th>LONGITUDE</th>\n",
       "      <th>ELEVATION</th>\n",
       "      <th>PRCP</th>\n",
       "      <th>PRCP_ATTRIBUTES</th>\n",
       "      <th>TMAX</th>\n",
       "      <th>TMAX_ATTRIBUTES</th>\n",
       "      <th>TMIN</th>\n",
       "      <th>TMIN_ATTRIBUTES</th>\n",
       "    </tr>\n",
       "    <tr>\n",
       "      <th>DATE</th>\n",
       "      <th></th>\n",
       "      <th></th>\n",
       "      <th></th>\n",
       "      <th></th>\n",
       "      <th></th>\n",
       "      <th></th>\n",
       "      <th></th>\n",
       "      <th></th>\n",
       "      <th></th>\n",
       "      <th></th>\n",
       "      <th></th>\n",
       "    </tr>\n",
       "  </thead>\n",
       "  <tbody>\n",
       "    <tr>\n",
       "      <th>1970-01-01</th>\n",
       "      <td>UKE00105887</td>\n",
       "      <td>PENICUIK, UK</td>\n",
       "      <td>55.8239</td>\n",
       "      <td>-3.2258</td>\n",
       "      <td>185.0</td>\n",
       "      <td>0.0</td>\n",
       "      <td>,,E</td>\n",
       "      <td>5.0</td>\n",
       "      <td>,,E</td>\n",
       "      <td>-0.6</td>\n",
       "      <td>,,E</td>\n",
       "    </tr>\n",
       "    <tr>\n",
       "      <th>1970-01-02</th>\n",
       "      <td>UKE00105887</td>\n",
       "      <td>PENICUIK, UK</td>\n",
       "      <td>55.8239</td>\n",
       "      <td>-3.2258</td>\n",
       "      <td>185.0</td>\n",
       "      <td>1.8</td>\n",
       "      <td>,,E</td>\n",
       "      <td>0.6</td>\n",
       "      <td>,I,E</td>\n",
       "      <td>1.1</td>\n",
       "      <td>,I,E</td>\n",
       "    </tr>\n",
       "    <tr>\n",
       "      <th>1970-01-03</th>\n",
       "      <td>UKE00105887</td>\n",
       "      <td>PENICUIK, UK</td>\n",
       "      <td>55.8239</td>\n",
       "      <td>-3.2258</td>\n",
       "      <td>185.0</td>\n",
       "      <td>0.0</td>\n",
       "      <td>,,E</td>\n",
       "      <td>1.7</td>\n",
       "      <td>,,E</td>\n",
       "      <td>-5.0</td>\n",
       "      <td>,,E</td>\n",
       "    </tr>\n",
       "    <tr>\n",
       "      <th>1970-01-04</th>\n",
       "      <td>UKE00105887</td>\n",
       "      <td>PENICUIK, UK</td>\n",
       "      <td>55.8239</td>\n",
       "      <td>-3.2258</td>\n",
       "      <td>185.0</td>\n",
       "      <td>0.0</td>\n",
       "      <td>,,E</td>\n",
       "      <td>-0.6</td>\n",
       "      <td>,,E</td>\n",
       "      <td>-3.3</td>\n",
       "      <td>,,E</td>\n",
       "    </tr>\n",
       "    <tr>\n",
       "      <th>1970-01-05</th>\n",
       "      <td>UKE00105887</td>\n",
       "      <td>PENICUIK, UK</td>\n",
       "      <td>55.8239</td>\n",
       "      <td>-3.2258</td>\n",
       "      <td>185.0</td>\n",
       "      <td>8.4</td>\n",
       "      <td>,,E</td>\n",
       "      <td>-2.8</td>\n",
       "      <td>,,E</td>\n",
       "      <td>-6.7</td>\n",
       "      <td>,,E</td>\n",
       "    </tr>\n",
       "  </tbody>\n",
       "</table>\n",
       "</div>"
      ],
      "text/plain": [
       "                STATION          NAME  LATITUDE  LONGITUDE  ELEVATION  PRCP  \\\n",
       "DATE                                                                          \n",
       "1970-01-01  UKE00105887  PENICUIK, UK   55.8239    -3.2258      185.0   0.0   \n",
       "1970-01-02  UKE00105887  PENICUIK, UK   55.8239    -3.2258      185.0   1.8   \n",
       "1970-01-03  UKE00105887  PENICUIK, UK   55.8239    -3.2258      185.0   0.0   \n",
       "1970-01-04  UKE00105887  PENICUIK, UK   55.8239    -3.2258      185.0   0.0   \n",
       "1970-01-05  UKE00105887  PENICUIK, UK   55.8239    -3.2258      185.0   8.4   \n",
       "\n",
       "           PRCP_ATTRIBUTES  TMAX TMAX_ATTRIBUTES  TMIN TMIN_ATTRIBUTES  \n",
       "DATE                                                                    \n",
       "1970-01-01             ,,E   5.0             ,,E  -0.6             ,,E  \n",
       "1970-01-02             ,,E   0.6            ,I,E   1.1            ,I,E  \n",
       "1970-01-03             ,,E   1.7             ,,E  -5.0             ,,E  \n",
       "1970-01-04             ,,E  -0.6             ,,E  -3.3             ,,E  \n",
       "1970-01-05             ,,E  -2.8             ,,E  -6.7             ,,E  "
      ]
     },
     "execution_count": 2,
     "metadata": {},
     "output_type": "execute_result"
    }
   ],
   "source": [
    "## Import the dataset (in CSV format) & observe the columns / general structure\n",
    "weather = pd.read_csv('edinburgh_weather_noaa.csv',index_col = \"DATE\")\n",
    "weather.head()"
   ]
  },
  {
   "cell_type": "raw",
   "id": "96f0fdab",
   "metadata": {},
   "source": [
    "From the data documentation, we can see the following:\n",
    "* PRCP = Precipitation (mm or inches as per user preference, inches to hundredths on Daily Form pdf file)\n",
    "* TMAX = Maximum temperature (Fahrenheit or Celsius as per user preference, Fahrenheit to tenths on \n",
    "Daily Form pdf file\n",
    "* TMIN = Minimum temperature (Fahrenheit or Celsius as per user preference, Fahrenheit to tenths on \n",
    "Daily Form pdf file\n",
    "\n",
    "** Note: during the download, you can specify the units. I have downloaded all data in metric units, so precipitation will be in centimeters and temperature will be in Celsius."
   ]
  },
  {
   "cell_type": "markdown",
   "id": "03692eb8",
   "metadata": {},
   "source": [
    "### Data cleaning"
   ]
  },
  {
   "cell_type": "code",
   "execution_count": 3,
   "id": "b00dedd7",
   "metadata": {},
   "outputs": [
    {
     "data": {
      "text/plain": [
       "STATION            0.000000\n",
       "NAME               0.000000\n",
       "LATITUDE           0.000000\n",
       "LONGITUDE          0.000000\n",
       "ELEVATION          0.000000\n",
       "PRCP               1.391798\n",
       "PRCP_ATTRIBUTES    1.391798\n",
       "TMAX               0.945320\n",
       "TMAX_ATTRIBUTES    0.945320\n",
       "TMIN               0.620108\n",
       "TMIN_ATTRIBUTES    0.620108\n",
       "dtype: float64"
      ]
     },
     "execution_count": 3,
     "metadata": {},
     "output_type": "execute_result"
    }
   ],
   "source": [
    "## Check for % of obsv. with null values in the dataset\n",
    "(weather.isnull().sum() / weather.shape[0]) * 100"
   ]
  },
  {
   "cell_type": "code",
   "execution_count": 4,
   "id": "a88fb400",
   "metadata": {},
   "outputs": [],
   "source": [
    "## Let's just keep the columns that are relevant. We want to just keep the precipitation, max temp., and min temp.\n",
    "core_weather = weather[[\"PRCP\", \"TMAX\", \"TMIN\"]].copy()\n",
    "core_weather.columns = [\"precip\", \"temp_max\", \"temp_min\"]"
   ]
  },
  {
   "cell_type": "code",
   "execution_count": 5,
   "id": "2599b7b9",
   "metadata": {},
   "outputs": [
    {
     "data": {
      "text/plain": [
       "0.0     0.407618\n",
       "0.2     0.043077\n",
       "0.1     0.039411\n",
       "0.4     0.025466\n",
       "0.3     0.024639\n",
       "          ...   \n",
       "31.3    0.000028\n",
       "30.2    0.000028\n",
       "39.8    0.000028\n",
       "45.9    0.000028\n",
       "29.7    0.000028\n",
       "Name: precip, Length: 380, dtype: float64"
      ]
     },
     "execution_count": 5,
     "metadata": {},
     "output_type": "execute_result"
    }
   ],
   "source": [
    "## The bulk of the observations (~41%) have precipiation level of 0\n",
    "## In this case, it might be reasonable to fill all the null values with '0' and not lose explanatory values of the data\n",
    "core_weather['precip'].value_counts() / core_weather.shape[0]"
   ]
  },
  {
   "cell_type": "code",
   "execution_count": 6,
   "id": "10b7c1d3",
   "metadata": {},
   "outputs": [],
   "source": [
    "## Filling the null values of the 'precip' column with zeros\n",
    "core_weather['precip'] = core_weather['precip'].fillna(0)"
   ]
  },
  {
   "cell_type": "markdown",
   "id": "5695be2a",
   "metadata": {},
   "source": [
    "Below, we can see that the 'temp_max' data is empty for stretches of days while the pattern is not that predictable for 'temp_min' data.\n",
    "\n",
    "For 'temp_max', it might be valuable to fill these null values based on the averages of the known values from the same day over the past years. For example, 2017-09-22 data for 'temp_max' could be calculated by taking the average of the 'temp_max' values for 2014-09-22, 2015-09-22, 2016-09-22... \n",
    "\n",
    "For simplicity's sake, and because the % of null values is relatively small (less than 1%), we use a built-in function to fill the nulls, i.e. 'ffill', which forward fills the null values based on the last known value."
   ]
  },
  {
   "cell_type": "code",
   "execution_count": 7,
   "id": "265d9c47",
   "metadata": {},
   "outputs": [
    {
     "data": {
      "text/html": [
       "<div>\n",
       "<style scoped>\n",
       "    .dataframe tbody tr th:only-of-type {\n",
       "        vertical-align: middle;\n",
       "    }\n",
       "\n",
       "    .dataframe tbody tr th {\n",
       "        vertical-align: top;\n",
       "    }\n",
       "\n",
       "    .dataframe thead th {\n",
       "        text-align: right;\n",
       "    }\n",
       "</style>\n",
       "<table border=\"1\" class=\"dataframe\">\n",
       "  <thead>\n",
       "    <tr style=\"text-align: right;\">\n",
       "      <th></th>\n",
       "      <th>precip</th>\n",
       "      <th>temp_max</th>\n",
       "      <th>temp_min</th>\n",
       "    </tr>\n",
       "    <tr>\n",
       "      <th>DATE</th>\n",
       "      <th></th>\n",
       "      <th></th>\n",
       "      <th></th>\n",
       "    </tr>\n",
       "  </thead>\n",
       "  <tbody>\n",
       "    <tr>\n",
       "      <th>2017-09-22</th>\n",
       "      <td>0.0</td>\n",
       "      <td>NaN</td>\n",
       "      <td>NaN</td>\n",
       "    </tr>\n",
       "    <tr>\n",
       "      <th>2017-09-23</th>\n",
       "      <td>0.2</td>\n",
       "      <td>NaN</td>\n",
       "      <td>NaN</td>\n",
       "    </tr>\n",
       "    <tr>\n",
       "      <th>2017-09-24</th>\n",
       "      <td>0.0</td>\n",
       "      <td>NaN</td>\n",
       "      <td>10.0</td>\n",
       "    </tr>\n",
       "    <tr>\n",
       "      <th>2017-09-25</th>\n",
       "      <td>6.4</td>\n",
       "      <td>NaN</td>\n",
       "      <td>NaN</td>\n",
       "    </tr>\n",
       "    <tr>\n",
       "      <th>2017-09-26</th>\n",
       "      <td>0.0</td>\n",
       "      <td>NaN</td>\n",
       "      <td>9.3</td>\n",
       "    </tr>\n",
       "    <tr>\n",
       "      <th>2017-09-27</th>\n",
       "      <td>1.1</td>\n",
       "      <td>NaN</td>\n",
       "      <td>9.2</td>\n",
       "    </tr>\n",
       "    <tr>\n",
       "      <th>2017-09-28</th>\n",
       "      <td>0.0</td>\n",
       "      <td>NaN</td>\n",
       "      <td>NaN</td>\n",
       "    </tr>\n",
       "    <tr>\n",
       "      <th>2017-09-29</th>\n",
       "      <td>0.0</td>\n",
       "      <td>NaN</td>\n",
       "      <td>9.8</td>\n",
       "    </tr>\n",
       "    <tr>\n",
       "      <th>2017-09-30</th>\n",
       "      <td>1.9</td>\n",
       "      <td>NaN</td>\n",
       "      <td>NaN</td>\n",
       "    </tr>\n",
       "    <tr>\n",
       "      <th>2017-10-01</th>\n",
       "      <td>1.9</td>\n",
       "      <td>NaN</td>\n",
       "      <td>0.0</td>\n",
       "    </tr>\n",
       "  </tbody>\n",
       "</table>\n",
       "</div>"
      ],
      "text/plain": [
       "            precip  temp_max  temp_min\n",
       "DATE                                  \n",
       "2017-09-22     0.0       NaN       NaN\n",
       "2017-09-23     0.2       NaN       NaN\n",
       "2017-09-24     0.0       NaN      10.0\n",
       "2017-09-25     6.4       NaN       NaN\n",
       "2017-09-26     0.0       NaN       9.3\n",
       "2017-09-27     1.1       NaN       9.2\n",
       "2017-09-28     0.0       NaN       NaN\n",
       "2017-09-29     0.0       NaN       9.8\n",
       "2017-09-30     1.9       NaN       NaN\n",
       "2017-10-01     1.9       NaN       0.0"
      ]
     },
     "execution_count": 7,
     "metadata": {},
     "output_type": "execute_result"
    }
   ],
   "source": [
    "## Checking the instances where the 'temp_max' and 'temp_min' columns are null.\n",
    "core_weather[core_weather['temp_max'].isnull()][90:100]"
   ]
  },
  {
   "cell_type": "code",
   "execution_count": 8,
   "id": "972c0bed",
   "metadata": {},
   "outputs": [
    {
     "data": {
      "text/html": [
       "<div>\n",
       "<style scoped>\n",
       "    .dataframe tbody tr th:only-of-type {\n",
       "        vertical-align: middle;\n",
       "    }\n",
       "\n",
       "    .dataframe tbody tr th {\n",
       "        vertical-align: top;\n",
       "    }\n",
       "\n",
       "    .dataframe thead th {\n",
       "        text-align: right;\n",
       "    }\n",
       "</style>\n",
       "<table border=\"1\" class=\"dataframe\">\n",
       "  <thead>\n",
       "    <tr style=\"text-align: right;\">\n",
       "      <th></th>\n",
       "      <th>precip</th>\n",
       "      <th>temp_max</th>\n",
       "      <th>temp_min</th>\n",
       "    </tr>\n",
       "    <tr>\n",
       "      <th>DATE</th>\n",
       "      <th></th>\n",
       "      <th></th>\n",
       "      <th></th>\n",
       "    </tr>\n",
       "  </thead>\n",
       "  <tbody>\n",
       "    <tr>\n",
       "      <th>2012-03-20</th>\n",
       "      <td>0.0</td>\n",
       "      <td>NaN</td>\n",
       "      <td>NaN</td>\n",
       "    </tr>\n",
       "    <tr>\n",
       "      <th>2012-03-21</th>\n",
       "      <td>0.0</td>\n",
       "      <td>NaN</td>\n",
       "      <td>NaN</td>\n",
       "    </tr>\n",
       "    <tr>\n",
       "      <th>2012-03-22</th>\n",
       "      <td>0.0</td>\n",
       "      <td>14.0</td>\n",
       "      <td>NaN</td>\n",
       "    </tr>\n",
       "    <tr>\n",
       "      <th>2012-03-23</th>\n",
       "      <td>0.0</td>\n",
       "      <td>13.5</td>\n",
       "      <td>NaN</td>\n",
       "    </tr>\n",
       "    <tr>\n",
       "      <th>2012-05-08</th>\n",
       "      <td>0.0</td>\n",
       "      <td>12.2</td>\n",
       "      <td>NaN</td>\n",
       "    </tr>\n",
       "    <tr>\n",
       "      <th>2012-05-09</th>\n",
       "      <td>11.3</td>\n",
       "      <td>NaN</td>\n",
       "      <td>NaN</td>\n",
       "    </tr>\n",
       "    <tr>\n",
       "      <th>2012-05-11</th>\n",
       "      <td>6.1</td>\n",
       "      <td>14.0</td>\n",
       "      <td>NaN</td>\n",
       "    </tr>\n",
       "    <tr>\n",
       "      <th>2012-05-15</th>\n",
       "      <td>0.2</td>\n",
       "      <td>NaN</td>\n",
       "      <td>NaN</td>\n",
       "    </tr>\n",
       "    <tr>\n",
       "      <th>2012-05-18</th>\n",
       "      <td>4.4</td>\n",
       "      <td>11.7</td>\n",
       "      <td>NaN</td>\n",
       "    </tr>\n",
       "    <tr>\n",
       "      <th>2012-05-19</th>\n",
       "      <td>0.0</td>\n",
       "      <td>13.3</td>\n",
       "      <td>NaN</td>\n",
       "    </tr>\n",
       "  </tbody>\n",
       "</table>\n",
       "</div>"
      ],
      "text/plain": [
       "            precip  temp_max  temp_min\n",
       "DATE                                  \n",
       "2012-03-20     0.0       NaN       NaN\n",
       "2012-03-21     0.0       NaN       NaN\n",
       "2012-03-22     0.0      14.0       NaN\n",
       "2012-03-23     0.0      13.5       NaN\n",
       "2012-05-08     0.0      12.2       NaN\n",
       "2012-05-09    11.3       NaN       NaN\n",
       "2012-05-11     6.1      14.0       NaN\n",
       "2012-05-15     0.2       NaN       NaN\n",
       "2012-05-18     4.4      11.7       NaN\n",
       "2012-05-19     0.0      13.3       NaN"
      ]
     },
     "execution_count": 8,
     "metadata": {},
     "output_type": "execute_result"
    }
   ],
   "source": [
    "core_weather[core_weather['temp_min'].isnull()][80:90]"
   ]
  },
  {
   "cell_type": "code",
   "execution_count": 9,
   "id": "cf2e5e45",
   "metadata": {},
   "outputs": [],
   "source": [
    "## Filling the null of the two columns using the ffill method\n",
    "core_weather[['temp_max','temp_min']] = core_weather[['temp_max','temp_min']].fillna(method=\"ffill\")"
   ]
  },
  {
   "cell_type": "code",
   "execution_count": 10,
   "id": "15728fd0",
   "metadata": {},
   "outputs": [
    {
     "data": {
      "text/plain": [
       "precip      0.0\n",
       "temp_max    0.0\n",
       "temp_min    0.0\n",
       "dtype: float64"
      ]
     },
     "execution_count": 10,
     "metadata": {},
     "output_type": "execute_result"
    }
   ],
   "source": [
    "## Let's check again for nulls and verify we have taken care of all of them.\n",
    "(core_weather.isnull().sum() / core_weather.shape[0]) * 100"
   ]
  },
  {
   "cell_type": "markdown",
   "id": "19ad390a",
   "metadata": {},
   "source": [
    "We want to extract useful information from the date index. Currently, pandas just knows it as string values. We can convert it to a datetime object so that we can get useful information such as year, month, and day from it."
   ]
  },
  {
   "cell_type": "code",
   "execution_count": 11,
   "id": "f318606c",
   "metadata": {},
   "outputs": [
    {
     "data": {
      "text/plain": [
       "DatetimeIndex(['1970-01-01', '1970-01-02', '1970-01-03', '1970-01-04',\n",
       "               '1970-01-05', '1970-01-06', '1970-01-07', '1970-01-08',\n",
       "               '1970-01-09', '1970-01-10',\n",
       "               ...\n",
       "               '2019-12-22', '2019-12-23', '2019-12-24', '2019-12-25',\n",
       "               '2019-12-26', '2019-12-27', '2019-12-28', '2019-12-29',\n",
       "               '2019-12-30', '2019-12-31'],\n",
       "              dtype='datetime64[ns]', name='DATE', length=36284, freq=None)"
      ]
     },
     "execution_count": 11,
     "metadata": {},
     "output_type": "execute_result"
    }
   ],
   "source": [
    "## Converting the index to datetime\n",
    "core_weather.index = pd.to_datetime(core_weather.index)\n",
    "core_weather.index"
   ]
  },
  {
   "cell_type": "code",
   "execution_count": 12,
   "id": "b626535c",
   "metadata": {},
   "outputs": [
    {
     "data": {
      "text/plain": [
       "Int64Index([1970, 1970, 1970, 1970, 1970, 1970, 1970, 1970, 1970, 1970,\n",
       "            ...\n",
       "            2019, 2019, 2019, 2019, 2019, 2019, 2019, 2019, 2019, 2019],\n",
       "           dtype='int64', name='DATE', length=36284)"
      ]
     },
     "execution_count": 12,
     "metadata": {},
     "output_type": "execute_result"
    }
   ],
   "source": [
    "## As mentioned above, this allows us to get useful information, e.g. the year value\n",
    "core_weather.index.year"
   ]
  },
  {
   "cell_type": "code",
   "execution_count": 13,
   "id": "e3d16ee0",
   "metadata": {},
   "outputs": [
    {
     "data": {
      "text/plain": [
       "<AxesSubplot:xlabel='DATE'>"
      ]
     },
     "execution_count": 13,
     "metadata": {},
     "output_type": "execute_result"
    },
    {
     "data": {
      "image/png": "[encoded data removed]",
      "text/plain": [
       "<Figure size 432x288 with 1 Axes>"
      ]
     },
     "metadata": {
      "needs_background": "light"
     },
     "output_type": "display_data"
    }
   ],
   "source": [
    "## Finally, let's get see how the data looks over time\n",
    "core_weather[[\"temp_max\", \"temp_min\"]].plot()"
   ]
  },
  {
   "cell_type": "code",
   "execution_count": 14,
   "id": "556c42f7",
   "metadata": {},
   "outputs": [
    {
     "data": {
      "text/plain": [
       "<AxesSubplot:xlabel='DATE'>"
      ]
     },
     "execution_count": 14,
     "metadata": {},
     "output_type": "execute_result"
    },
    {
     "data": {
      "image/png": "[encoded data removed]",
      "text/plain": [
       "<Figure size 432x288 with 1 Axes>"
      ]
     },
     "metadata": {
      "needs_background": "light"
     },
     "output_type": "display_data"
    }
   ],
   "source": [
    "core_weather[\"precip\"].plot()"
   ]
  },
  {
   "cell_type": "markdown",
   "id": "cb6447b6",
   "metadata": {},
   "source": [
    "### Building initial predictive models\n",
    "\n",
    "There are many ways one could go about building a weather prediction model. You can look at all historical data to get insights on how the weather will look like over the coming week or month.\n",
    "\n",
    "**For the purpose of this model, we will predict tomorrow's weather using the information we have today.**\n",
    "\n",
    "To have a model that predicts tomorrow's temperature using the information we have today, we need to build a target variable column that represents tomorrow's weather. We will use this target data to train the model."
   ]
  },
  {
   "cell_type": "code",
   "execution_count": 15,
   "id": "84ea5896",
   "metadata": {},
   "outputs": [
    {
     "data": {
      "text/html": [
       "<div>\n",
       "<style scoped>\n",
       "    .dataframe tbody tr th:only-of-type {\n",
       "        vertical-align: middle;\n",
       "    }\n",
       "\n",
       "    .dataframe tbody tr th {\n",
       "        vertical-align: top;\n",
       "    }\n",
       "\n",
       "    .dataframe thead th {\n",
       "        text-align: right;\n",
       "    }\n",
       "</style>\n",
       "<table border=\"1\" class=\"dataframe\">\n",
       "  <thead>\n",
       "    <tr style=\"text-align: right;\">\n",
       "      <th></th>\n",
       "      <th>precip</th>\n",
       "      <th>temp_max</th>\n",
       "      <th>temp_min</th>\n",
       "      <th>target</th>\n",
       "    </tr>\n",
       "    <tr>\n",
       "      <th>DATE</th>\n",
       "      <th></th>\n",
       "      <th></th>\n",
       "      <th></th>\n",
       "      <th></th>\n",
       "    </tr>\n",
       "  </thead>\n",
       "  <tbody>\n",
       "    <tr>\n",
       "      <th>1970-01-01</th>\n",
       "      <td>0.0</td>\n",
       "      <td>5.0</td>\n",
       "      <td>-0.6</td>\n",
       "      <td>0.6</td>\n",
       "    </tr>\n",
       "    <tr>\n",
       "      <th>1970-01-02</th>\n",
       "      <td>1.8</td>\n",
       "      <td>0.6</td>\n",
       "      <td>1.1</td>\n",
       "      <td>1.7</td>\n",
       "    </tr>\n",
       "    <tr>\n",
       "      <th>1970-01-03</th>\n",
       "      <td>0.0</td>\n",
       "      <td>1.7</td>\n",
       "      <td>-5.0</td>\n",
       "      <td>-0.6</td>\n",
       "    </tr>\n",
       "    <tr>\n",
       "      <th>1970-01-04</th>\n",
       "      <td>0.0</td>\n",
       "      <td>-0.6</td>\n",
       "      <td>-3.3</td>\n",
       "      <td>-2.8</td>\n",
       "    </tr>\n",
       "    <tr>\n",
       "      <th>1970-01-05</th>\n",
       "      <td>8.4</td>\n",
       "      <td>-2.8</td>\n",
       "      <td>-6.7</td>\n",
       "      <td>-2.2</td>\n",
       "    </tr>\n",
       "  </tbody>\n",
       "</table>\n",
       "</div>"
      ],
      "text/plain": [
       "            precip  temp_max  temp_min  target\n",
       "DATE                                          \n",
       "1970-01-01     0.0       5.0      -0.6     0.6\n",
       "1970-01-02     1.8       0.6       1.1     1.7\n",
       "1970-01-03     0.0       1.7      -5.0    -0.6\n",
       "1970-01-04     0.0      -0.6      -3.3    -2.8\n",
       "1970-01-05     8.4      -2.8      -6.7    -2.2"
      ]
     },
     "execution_count": 15,
     "metadata": {},
     "output_type": "execute_result"
    }
   ],
   "source": [
    "core_weather[\"target\"] = core_weather.shift(-1)[\"temp_max\"]\n",
    "core_weather.head()"
   ]
  },
  {
   "cell_type": "code",
   "execution_count": 16,
   "id": "1d413407",
   "metadata": {},
   "outputs": [
    {
     "data": {
      "text/html": [
       "<div>\n",
       "<style scoped>\n",
       "    .dataframe tbody tr th:only-of-type {\n",
       "        vertical-align: middle;\n",
       "    }\n",
       "\n",
       "    .dataframe tbody tr th {\n",
       "        vertical-align: top;\n",
       "    }\n",
       "\n",
       "    .dataframe thead th {\n",
       "        text-align: right;\n",
       "    }\n",
       "</style>\n",
       "<table border=\"1\" class=\"dataframe\">\n",
       "  <thead>\n",
       "    <tr style=\"text-align: right;\">\n",
       "      <th></th>\n",
       "      <th>precip</th>\n",
       "      <th>temp_max</th>\n",
       "      <th>temp_min</th>\n",
       "      <th>target</th>\n",
       "    </tr>\n",
       "    <tr>\n",
       "      <th>DATE</th>\n",
       "      <th></th>\n",
       "      <th></th>\n",
       "      <th></th>\n",
       "      <th></th>\n",
       "    </tr>\n",
       "  </thead>\n",
       "  <tbody>\n",
       "    <tr>\n",
       "      <th>2019-12-27</th>\n",
       "      <td>2.0</td>\n",
       "      <td>11.3</td>\n",
       "      <td>3.0</td>\n",
       "      <td>11.7</td>\n",
       "    </tr>\n",
       "    <tr>\n",
       "      <th>2019-12-28</th>\n",
       "      <td>0.0</td>\n",
       "      <td>11.7</td>\n",
       "      <td>5.8</td>\n",
       "      <td>10.8</td>\n",
       "    </tr>\n",
       "    <tr>\n",
       "      <th>2019-12-29</th>\n",
       "      <td>0.0</td>\n",
       "      <td>10.8</td>\n",
       "      <td>9.0</td>\n",
       "      <td>7.0</td>\n",
       "    </tr>\n",
       "    <tr>\n",
       "      <th>2019-12-30</th>\n",
       "      <td>0.0</td>\n",
       "      <td>7.0</td>\n",
       "      <td>8.8</td>\n",
       "      <td>7.0</td>\n",
       "    </tr>\n",
       "    <tr>\n",
       "      <th>2019-12-31</th>\n",
       "      <td>0.2</td>\n",
       "      <td>7.0</td>\n",
       "      <td>-1.3</td>\n",
       "      <td>NaN</td>\n",
       "    </tr>\n",
       "  </tbody>\n",
       "</table>\n",
       "</div>"
      ],
      "text/plain": [
       "            precip  temp_max  temp_min  target\n",
       "DATE                                          \n",
       "2019-12-27     2.0      11.3       3.0    11.7\n",
       "2019-12-28     0.0      11.7       5.8    10.8\n",
       "2019-12-29     0.0      10.8       9.0     7.0\n",
       "2019-12-30     0.0       7.0       8.8     7.0\n",
       "2019-12-31     0.2       7.0      -1.3     NaN"
      ]
     },
     "execution_count": 16,
     "metadata": {},
     "output_type": "execute_result"
    }
   ],
   "source": [
    "## Because the target variable is using the shifted data, the last entry is empty. We will just remove that last row.\n",
    "core_weather.tail()"
   ]
  },
  {
   "cell_type": "code",
   "execution_count": 17,
   "id": "bb804ae2",
   "metadata": {},
   "outputs": [],
   "source": [
    "core_weather = core_weather.iloc[:-1,:].copy()"
   ]
  },
  {
   "cell_type": "code",
   "execution_count": 18,
   "id": "d8dd65b7",
   "metadata": {},
   "outputs": [
    {
     "data": {
      "text/html": [
       "<div>\n",
       "<style scoped>\n",
       "    .dataframe tbody tr th:only-of-type {\n",
       "        vertical-align: middle;\n",
       "    }\n",
       "\n",
       "    .dataframe tbody tr th {\n",
       "        vertical-align: top;\n",
       "    }\n",
       "\n",
       "    .dataframe thead th {\n",
       "        text-align: right;\n",
       "    }\n",
       "</style>\n",
       "<table border=\"1\" class=\"dataframe\">\n",
       "  <thead>\n",
       "    <tr style=\"text-align: right;\">\n",
       "      <th></th>\n",
       "      <th>precip</th>\n",
       "      <th>temp_max</th>\n",
       "      <th>temp_min</th>\n",
       "      <th>target</th>\n",
       "    </tr>\n",
       "    <tr>\n",
       "      <th>DATE</th>\n",
       "      <th></th>\n",
       "      <th></th>\n",
       "      <th></th>\n",
       "      <th></th>\n",
       "    </tr>\n",
       "  </thead>\n",
       "  <tbody>\n",
       "    <tr>\n",
       "      <th>1970-01-01</th>\n",
       "      <td>0.0</td>\n",
       "      <td>5.0</td>\n",
       "      <td>-0.6</td>\n",
       "      <td>0.6</td>\n",
       "    </tr>\n",
       "    <tr>\n",
       "      <th>1970-01-02</th>\n",
       "      <td>1.8</td>\n",
       "      <td>0.6</td>\n",
       "      <td>1.1</td>\n",
       "      <td>1.7</td>\n",
       "    </tr>\n",
       "    <tr>\n",
       "      <th>1970-01-03</th>\n",
       "      <td>0.0</td>\n",
       "      <td>1.7</td>\n",
       "      <td>-5.0</td>\n",
       "      <td>-0.6</td>\n",
       "    </tr>\n",
       "    <tr>\n",
       "      <th>1970-01-04</th>\n",
       "      <td>0.0</td>\n",
       "      <td>-0.6</td>\n",
       "      <td>-3.3</td>\n",
       "      <td>-2.8</td>\n",
       "    </tr>\n",
       "    <tr>\n",
       "      <th>1970-01-05</th>\n",
       "      <td>8.4</td>\n",
       "      <td>-2.8</td>\n",
       "      <td>-6.7</td>\n",
       "      <td>-2.2</td>\n",
       "    </tr>\n",
       "    <tr>\n",
       "      <th>...</th>\n",
       "      <td>...</td>\n",
       "      <td>...</td>\n",
       "      <td>...</td>\n",
       "      <td>...</td>\n",
       "    </tr>\n",
       "    <tr>\n",
       "      <th>2019-12-26</th>\n",
       "      <td>0.6</td>\n",
       "      <td>11.5</td>\n",
       "      <td>1.6</td>\n",
       "      <td>11.3</td>\n",
       "    </tr>\n",
       "    <tr>\n",
       "      <th>2019-12-27</th>\n",
       "      <td>2.0</td>\n",
       "      <td>11.3</td>\n",
       "      <td>3.0</td>\n",
       "      <td>11.7</td>\n",
       "    </tr>\n",
       "    <tr>\n",
       "      <th>2019-12-28</th>\n",
       "      <td>0.0</td>\n",
       "      <td>11.7</td>\n",
       "      <td>5.8</td>\n",
       "      <td>10.8</td>\n",
       "    </tr>\n",
       "    <tr>\n",
       "      <th>2019-12-29</th>\n",
       "      <td>0.0</td>\n",
       "      <td>10.8</td>\n",
       "      <td>9.0</td>\n",
       "      <td>7.0</td>\n",
       "    </tr>\n",
       "    <tr>\n",
       "      <th>2019-12-30</th>\n",
       "      <td>0.0</td>\n",
       "      <td>7.0</td>\n",
       "      <td>8.8</td>\n",
       "      <td>7.0</td>\n",
       "    </tr>\n",
       "  </tbody>\n",
       "</table>\n",
       "<p>36283 rows × 4 columns</p>\n",
       "</div>"
      ],
      "text/plain": [
       "            precip  temp_max  temp_min  target\n",
       "DATE                                          \n",
       "1970-01-01     0.0       5.0      -0.6     0.6\n",
       "1970-01-02     1.8       0.6       1.1     1.7\n",
       "1970-01-03     0.0       1.7      -5.0    -0.6\n",
       "1970-01-04     0.0      -0.6      -3.3    -2.8\n",
       "1970-01-05     8.4      -2.8      -6.7    -2.2\n",
       "...            ...       ...       ...     ...\n",
       "2019-12-26     0.6      11.5       1.6    11.3\n",
       "2019-12-27     2.0      11.3       3.0    11.7\n",
       "2019-12-28     0.0      11.7       5.8    10.8\n",
       "2019-12-29     0.0      10.8       9.0     7.0\n",
       "2019-12-30     0.0       7.0       8.8     7.0\n",
       "\n",
       "[36283 rows x 4 columns]"
      ]
     },
     "execution_count": 18,
     "metadata": {},
     "output_type": "execute_result"
    }
   ],
   "source": [
    "core_weather"
   ]
  },
  {
   "cell_type": "code",
   "execution_count": 19,
   "id": "fd0a06c8",
   "metadata": {},
   "outputs": [],
   "source": [
    "## We see that the number of rows does not match the number of years; removing duplicate dates\n",
    "core_weather = core_weather.loc[~core_weather.index.duplicated(), :]"
   ]
  },
  {
   "cell_type": "code",
   "execution_count": 20,
   "id": "d59830cd",
   "metadata": {},
   "outputs": [
    {
     "data": {
      "text/html": [
       "<div>\n",
       "<style scoped>\n",
       "    .dataframe tbody tr th:only-of-type {\n",
       "        vertical-align: middle;\n",
       "    }\n",
       "\n",
       "    .dataframe tbody tr th {\n",
       "        vertical-align: top;\n",
       "    }\n",
       "\n",
       "    .dataframe thead th {\n",
       "        text-align: right;\n",
       "    }\n",
       "</style>\n",
       "<table border=\"1\" class=\"dataframe\">\n",
       "  <thead>\n",
       "    <tr style=\"text-align: right;\">\n",
       "      <th></th>\n",
       "      <th>precip</th>\n",
       "      <th>temp_max</th>\n",
       "      <th>temp_min</th>\n",
       "      <th>target</th>\n",
       "    </tr>\n",
       "    <tr>\n",
       "      <th>DATE</th>\n",
       "      <th></th>\n",
       "      <th></th>\n",
       "      <th></th>\n",
       "      <th></th>\n",
       "    </tr>\n",
       "  </thead>\n",
       "  <tbody>\n",
       "    <tr>\n",
       "      <th>1970-01-01</th>\n",
       "      <td>0.0</td>\n",
       "      <td>5.0</td>\n",
       "      <td>-0.6</td>\n",
       "      <td>0.6</td>\n",
       "    </tr>\n",
       "    <tr>\n",
       "      <th>1970-01-02</th>\n",
       "      <td>1.8</td>\n",
       "      <td>0.6</td>\n",
       "      <td>1.1</td>\n",
       "      <td>1.7</td>\n",
       "    </tr>\n",
       "    <tr>\n",
       "      <th>1970-01-03</th>\n",
       "      <td>0.0</td>\n",
       "      <td>1.7</td>\n",
       "      <td>-5.0</td>\n",
       "      <td>-0.6</td>\n",
       "    </tr>\n",
       "    <tr>\n",
       "      <th>1970-01-04</th>\n",
       "      <td>0.0</td>\n",
       "      <td>-0.6</td>\n",
       "      <td>-3.3</td>\n",
       "      <td>-2.8</td>\n",
       "    </tr>\n",
       "    <tr>\n",
       "      <th>1970-01-05</th>\n",
       "      <td>8.4</td>\n",
       "      <td>-2.8</td>\n",
       "      <td>-6.7</td>\n",
       "      <td>-2.2</td>\n",
       "    </tr>\n",
       "    <tr>\n",
       "      <th>...</th>\n",
       "      <td>...</td>\n",
       "      <td>...</td>\n",
       "      <td>...</td>\n",
       "      <td>...</td>\n",
       "    </tr>\n",
       "    <tr>\n",
       "      <th>2019-12-26</th>\n",
       "      <td>0.6</td>\n",
       "      <td>11.5</td>\n",
       "      <td>1.6</td>\n",
       "      <td>11.3</td>\n",
       "    </tr>\n",
       "    <tr>\n",
       "      <th>2019-12-27</th>\n",
       "      <td>2.0</td>\n",
       "      <td>11.3</td>\n",
       "      <td>3.0</td>\n",
       "      <td>11.7</td>\n",
       "    </tr>\n",
       "    <tr>\n",
       "      <th>2019-12-28</th>\n",
       "      <td>0.0</td>\n",
       "      <td>11.7</td>\n",
       "      <td>5.8</td>\n",
       "      <td>10.8</td>\n",
       "    </tr>\n",
       "    <tr>\n",
       "      <th>2019-12-29</th>\n",
       "      <td>0.0</td>\n",
       "      <td>10.8</td>\n",
       "      <td>9.0</td>\n",
       "      <td>7.0</td>\n",
       "    </tr>\n",
       "    <tr>\n",
       "      <th>2019-12-30</th>\n",
       "      <td>0.0</td>\n",
       "      <td>7.0</td>\n",
       "      <td>8.8</td>\n",
       "      <td>7.0</td>\n",
       "    </tr>\n",
       "  </tbody>\n",
       "</table>\n",
       "<p>18261 rows × 4 columns</p>\n",
       "</div>"
      ],
      "text/plain": [
       "            precip  temp_max  temp_min  target\n",
       "DATE                                          \n",
       "1970-01-01     0.0       5.0      -0.6     0.6\n",
       "1970-01-02     1.8       0.6       1.1     1.7\n",
       "1970-01-03     0.0       1.7      -5.0    -0.6\n",
       "1970-01-04     0.0      -0.6      -3.3    -2.8\n",
       "1970-01-05     8.4      -2.8      -6.7    -2.2\n",
       "...            ...       ...       ...     ...\n",
       "2019-12-26     0.6      11.5       1.6    11.3\n",
       "2019-12-27     2.0      11.3       3.0    11.7\n",
       "2019-12-28     0.0      11.7       5.8    10.8\n",
       "2019-12-29     0.0      10.8       9.0     7.0\n",
       "2019-12-30     0.0       7.0       8.8     7.0\n",
       "\n",
       "[18261 rows x 4 columns]"
      ]
     },
     "execution_count": 20,
     "metadata": {},
     "output_type": "execute_result"
    }
   ],
   "source": [
    "core_weather"
   ]
  },
  {
   "cell_type": "code",
   "execution_count": 21,
   "id": "3ce89b94",
   "metadata": {},
   "outputs": [],
   "source": [
    "core_weather = core_weather.sort_index()"
   ]
  },
  {
   "cell_type": "markdown",
   "id": "2e908f67",
   "metadata": {},
   "source": [
    "### Ridge Regression Model\n",
    "\n",
    "We will first use a ridge regression model for prediction. Ridge regression shrinks the effects of some of the variables in the model using an L2 regularisation method (but never reduces the effects to zero, like Lasso regression does). This effectively reduces the complexity of the model. Reducing the complexity may be preferable since in building machine learning models, we want to build a model that strikes a good bias-variance tradeoff. We don't want the models to overfit to the training data and thus result in a lower predictive power. We want to build a model that can perform well on test data – ridge regression is a way to achieve this balance."
   ]
  },
  {
   "cell_type": "markdown",
   "id": "ac2b9aee",
   "metadata": {},
   "source": [
    "#### Prep dataset for prediction"
   ]
  },
  {
   "cell_type": "code",
   "execution_count": 22,
   "id": "a737947d",
   "metadata": {},
   "outputs": [],
   "source": [
    "## We will use all the data up until the end of 2018 in the training dataset. We use the 2019 as test data.\n",
    "predictors = [\"precip\", \"temp_max\", \"temp_min\"]\n",
    "train = core_weather.loc[:\"2018-12-31\"]\n",
    "test = core_weather.loc[\"2019-01-01\":]"
   ]
  },
  {
   "cell_type": "code",
   "execution_count": 23,
   "id": "3fa47a42",
   "metadata": {},
   "outputs": [
    {
     "data": {
      "text/html": [
       "<div>\n",
       "<style scoped>\n",
       "    .dataframe tbody tr th:only-of-type {\n",
       "        vertical-align: middle;\n",
       "    }\n",
       "\n",
       "    .dataframe tbody tr th {\n",
       "        vertical-align: top;\n",
       "    }\n",
       "\n",
       "    .dataframe thead th {\n",
       "        text-align: right;\n",
       "    }\n",
       "</style>\n",
       "<table border=\"1\" class=\"dataframe\">\n",
       "  <thead>\n",
       "    <tr style=\"text-align: right;\">\n",
       "      <th></th>\n",
       "      <th>precip</th>\n",
       "      <th>temp_max</th>\n",
       "      <th>temp_min</th>\n",
       "      <th>target</th>\n",
       "    </tr>\n",
       "    <tr>\n",
       "      <th>DATE</th>\n",
       "      <th></th>\n",
       "      <th></th>\n",
       "      <th></th>\n",
       "      <th></th>\n",
       "    </tr>\n",
       "  </thead>\n",
       "  <tbody>\n",
       "    <tr>\n",
       "      <th>1970-01-01</th>\n",
       "      <td>0.0</td>\n",
       "      <td>5.0</td>\n",
       "      <td>-0.6</td>\n",
       "      <td>0.6</td>\n",
       "    </tr>\n",
       "    <tr>\n",
       "      <th>1970-01-02</th>\n",
       "      <td>1.8</td>\n",
       "      <td>0.6</td>\n",
       "      <td>1.1</td>\n",
       "      <td>1.7</td>\n",
       "    </tr>\n",
       "    <tr>\n",
       "      <th>1970-01-03</th>\n",
       "      <td>0.0</td>\n",
       "      <td>1.7</td>\n",
       "      <td>-5.0</td>\n",
       "      <td>-0.6</td>\n",
       "    </tr>\n",
       "    <tr>\n",
       "      <th>1970-01-04</th>\n",
       "      <td>0.0</td>\n",
       "      <td>-0.6</td>\n",
       "      <td>-3.3</td>\n",
       "      <td>-2.8</td>\n",
       "    </tr>\n",
       "    <tr>\n",
       "      <th>1970-01-05</th>\n",
       "      <td>8.4</td>\n",
       "      <td>-2.8</td>\n",
       "      <td>-6.7</td>\n",
       "      <td>-2.2</td>\n",
       "    </tr>\n",
       "    <tr>\n",
       "      <th>...</th>\n",
       "      <td>...</td>\n",
       "      <td>...</td>\n",
       "      <td>...</td>\n",
       "      <td>...</td>\n",
       "    </tr>\n",
       "    <tr>\n",
       "      <th>2018-12-27</th>\n",
       "      <td>0.2</td>\n",
       "      <td>10.5</td>\n",
       "      <td>5.3</td>\n",
       "      <td>10.0</td>\n",
       "    </tr>\n",
       "    <tr>\n",
       "      <th>2018-12-28</th>\n",
       "      <td>2.3</td>\n",
       "      <td>10.0</td>\n",
       "      <td>6.9</td>\n",
       "      <td>10.2</td>\n",
       "    </tr>\n",
       "    <tr>\n",
       "      <th>2018-12-29</th>\n",
       "      <td>0.3</td>\n",
       "      <td>10.2</td>\n",
       "      <td>3.9</td>\n",
       "      <td>10.2</td>\n",
       "    </tr>\n",
       "    <tr>\n",
       "      <th>2018-12-30</th>\n",
       "      <td>0.0</td>\n",
       "      <td>10.2</td>\n",
       "      <td>3.8</td>\n",
       "      <td>10.2</td>\n",
       "    </tr>\n",
       "    <tr>\n",
       "      <th>2018-12-31</th>\n",
       "      <td>0.0</td>\n",
       "      <td>10.2</td>\n",
       "      <td>7.5</td>\n",
       "      <td>1.3</td>\n",
       "    </tr>\n",
       "  </tbody>\n",
       "</table>\n",
       "<p>17897 rows × 4 columns</p>\n",
       "</div>"
      ],
      "text/plain": [
       "            precip  temp_max  temp_min  target\n",
       "DATE                                          \n",
       "1970-01-01     0.0       5.0      -0.6     0.6\n",
       "1970-01-02     1.8       0.6       1.1     1.7\n",
       "1970-01-03     0.0       1.7      -5.0    -0.6\n",
       "1970-01-04     0.0      -0.6      -3.3    -2.8\n",
       "1970-01-05     8.4      -2.8      -6.7    -2.2\n",
       "...            ...       ...       ...     ...\n",
       "2018-12-27     0.2      10.5       5.3    10.0\n",
       "2018-12-28     2.3      10.0       6.9    10.2\n",
       "2018-12-29     0.3      10.2       3.9    10.2\n",
       "2018-12-30     0.0      10.2       3.8    10.2\n",
       "2018-12-31     0.0      10.2       7.5     1.3\n",
       "\n",
       "[17897 rows x 4 columns]"
      ]
     },
     "execution_count": 23,
     "metadata": {},
     "output_type": "execute_result"
    }
   ],
   "source": [
    "train"
   ]
  },
  {
   "cell_type": "code",
   "execution_count": 24,
   "id": "9b2f1a8e",
   "metadata": {},
   "outputs": [
    {
     "data": {
      "text/html": [
       "<div>\n",
       "<style scoped>\n",
       "    .dataframe tbody tr th:only-of-type {\n",
       "        vertical-align: middle;\n",
       "    }\n",
       "\n",
       "    .dataframe tbody tr th {\n",
       "        vertical-align: top;\n",
       "    }\n",
       "\n",
       "    .dataframe thead th {\n",
       "        text-align: right;\n",
       "    }\n",
       "</style>\n",
       "<table border=\"1\" class=\"dataframe\">\n",
       "  <thead>\n",
       "    <tr style=\"text-align: right;\">\n",
       "      <th></th>\n",
       "      <th>precip</th>\n",
       "      <th>temp_max</th>\n",
       "      <th>temp_min</th>\n",
       "      <th>target</th>\n",
       "    </tr>\n",
       "    <tr>\n",
       "      <th>DATE</th>\n",
       "      <th></th>\n",
       "      <th></th>\n",
       "      <th></th>\n",
       "      <th></th>\n",
       "    </tr>\n",
       "  </thead>\n",
       "  <tbody>\n",
       "    <tr>\n",
       "      <th>2019-01-01</th>\n",
       "      <td>0.0</td>\n",
       "      <td>1.3</td>\n",
       "      <td>7.5</td>\n",
       "      <td>6.2</td>\n",
       "    </tr>\n",
       "    <tr>\n",
       "      <th>2019-01-02</th>\n",
       "      <td>0.0</td>\n",
       "      <td>6.2</td>\n",
       "      <td>-5.6</td>\n",
       "      <td>6.5</td>\n",
       "    </tr>\n",
       "    <tr>\n",
       "      <th>2019-01-03</th>\n",
       "      <td>0.0</td>\n",
       "      <td>6.5</td>\n",
       "      <td>-5.0</td>\n",
       "      <td>6.4</td>\n",
       "    </tr>\n",
       "    <tr>\n",
       "      <th>2019-01-04</th>\n",
       "      <td>0.0</td>\n",
       "      <td>6.4</td>\n",
       "      <td>1.3</td>\n",
       "      <td>10.8</td>\n",
       "    </tr>\n",
       "    <tr>\n",
       "      <th>2019-01-05</th>\n",
       "      <td>0.0</td>\n",
       "      <td>10.8</td>\n",
       "      <td>1.5</td>\n",
       "      <td>10.2</td>\n",
       "    </tr>\n",
       "    <tr>\n",
       "      <th>...</th>\n",
       "      <td>...</td>\n",
       "      <td>...</td>\n",
       "      <td>...</td>\n",
       "      <td>...</td>\n",
       "    </tr>\n",
       "    <tr>\n",
       "      <th>2019-12-26</th>\n",
       "      <td>0.6</td>\n",
       "      <td>11.5</td>\n",
       "      <td>1.6</td>\n",
       "      <td>11.3</td>\n",
       "    </tr>\n",
       "    <tr>\n",
       "      <th>2019-12-27</th>\n",
       "      <td>2.0</td>\n",
       "      <td>11.3</td>\n",
       "      <td>3.0</td>\n",
       "      <td>11.7</td>\n",
       "    </tr>\n",
       "    <tr>\n",
       "      <th>2019-12-28</th>\n",
       "      <td>0.0</td>\n",
       "      <td>11.7</td>\n",
       "      <td>5.8</td>\n",
       "      <td>10.8</td>\n",
       "    </tr>\n",
       "    <tr>\n",
       "      <th>2019-12-29</th>\n",
       "      <td>0.0</td>\n",
       "      <td>10.8</td>\n",
       "      <td>9.0</td>\n",
       "      <td>7.0</td>\n",
       "    </tr>\n",
       "    <tr>\n",
       "      <th>2019-12-30</th>\n",
       "      <td>0.0</td>\n",
       "      <td>7.0</td>\n",
       "      <td>8.8</td>\n",
       "      <td>7.0</td>\n",
       "    </tr>\n",
       "  </tbody>\n",
       "</table>\n",
       "<p>364 rows × 4 columns</p>\n",
       "</div>"
      ],
      "text/plain": [
       "            precip  temp_max  temp_min  target\n",
       "DATE                                          \n",
       "2019-01-01     0.0       1.3       7.5     6.2\n",
       "2019-01-02     0.0       6.2      -5.6     6.5\n",
       "2019-01-03     0.0       6.5      -5.0     6.4\n",
       "2019-01-04     0.0       6.4       1.3    10.8\n",
       "2019-01-05     0.0      10.8       1.5    10.2\n",
       "...            ...       ...       ...     ...\n",
       "2019-12-26     0.6      11.5       1.6    11.3\n",
       "2019-12-27     2.0      11.3       3.0    11.7\n",
       "2019-12-28     0.0      11.7       5.8    10.8\n",
       "2019-12-29     0.0      10.8       9.0     7.0\n",
       "2019-12-30     0.0       7.0       8.8     7.0\n",
       "\n",
       "[364 rows x 4 columns]"
      ]
     },
     "execution_count": 24,
     "metadata": {},
     "output_type": "execute_result"
    }
   ],
   "source": [
    "test"
   ]
  },
  {
   "cell_type": "markdown",
   "id": "e902a0cb",
   "metadata": {},
   "source": [
    "#### Run basic model"
   ]
  },
  {
   "cell_type": "code",
   "execution_count": 25,
   "id": "0cdd936a",
   "metadata": {},
   "outputs": [],
   "source": [
    "## Now let's run the model\n",
    "reg = Ridge(alpha=0.1)\n",
    "reg.fit(train[predictors],train['target'])\n",
    "model_predictions = reg.predict(test[predictors])"
   ]
  },
  {
   "cell_type": "markdown",
   "id": "9cc2c443",
   "metadata": {},
   "source": [
    "Now that the model is run, we use the RMSE metric to assess predictive performance. RMSE takes the square root of the popular MSE metric – and gives an indication of the performance in the same unit as the target variable, making it easier to interpret\n",
    "\n"
   ]
  },
  {
   "cell_type": "code",
   "execution_count": 26,
   "id": "215f2bb1",
   "metadata": {},
   "outputs": [
    {
     "name": "stdout",
     "output_type": "stream",
     "text": [
      "Model RMSE: 2.369436470984807\n",
      "Model R-squared: 0.8223107306299469\n"
     ]
    }
   ],
   "source": [
    "model_rmse = math.sqrt(mean_squared_error(test['target'],model_predictions))\n",
    "model_r2 = r2_score(test['target'],model_predictions)\n",
    "print(f'Model RMSE: {model_rmse}')\n",
    "print(f'Model R-squared: {model_r2}')"
   ]
  },
  {
   "cell_type": "markdown",
   "id": "a1681fff",
   "metadata": {},
   "source": [
    "Let's see how the prediction stack up to actual values in a chart"
   ]
  },
  {
   "cell_type": "code",
   "execution_count": 27,
   "id": "4409be5c",
   "metadata": {},
   "outputs": [
    {
     "data": {
      "text/html": [
       "<div>\n",
       "<style scoped>\n",
       "    .dataframe tbody tr th:only-of-type {\n",
       "        vertical-align: middle;\n",
       "    }\n",
       "\n",
       "    .dataframe tbody tr th {\n",
       "        vertical-align: top;\n",
       "    }\n",
       "\n",
       "    .dataframe thead th {\n",
       "        text-align: right;\n",
       "    }\n",
       "</style>\n",
       "<table border=\"1\" class=\"dataframe\">\n",
       "  <thead>\n",
       "    <tr style=\"text-align: right;\">\n",
       "      <th></th>\n",
       "      <th>actual</th>\n",
       "      <th>predictions</th>\n",
       "    </tr>\n",
       "    <tr>\n",
       "      <th>DATE</th>\n",
       "      <th></th>\n",
       "      <th></th>\n",
       "    </tr>\n",
       "  </thead>\n",
       "  <tbody>\n",
       "    <tr>\n",
       "      <th>2019-01-01</th>\n",
       "      <td>6.2</td>\n",
       "      <td>3.011021</td>\n",
       "    </tr>\n",
       "    <tr>\n",
       "      <th>2019-01-02</th>\n",
       "      <td>6.5</td>\n",
       "      <td>6.180255</td>\n",
       "    </tr>\n",
       "    <tr>\n",
       "      <th>2019-01-03</th>\n",
       "      <td>6.4</td>\n",
       "      <td>6.486858</td>\n",
       "    </tr>\n",
       "    <tr>\n",
       "      <th>2019-01-04</th>\n",
       "      <td>10.8</td>\n",
       "      <td>6.906533</td>\n",
       "    </tr>\n",
       "    <tr>\n",
       "      <th>2019-01-05</th>\n",
       "      <td>10.2</td>\n",
       "      <td>10.712889</td>\n",
       "    </tr>\n",
       "    <tr>\n",
       "      <th>...</th>\n",
       "      <td>...</td>\n",
       "      <td>...</td>\n",
       "    </tr>\n",
       "    <tr>\n",
       "      <th>2019-12-26</th>\n",
       "      <td>11.3</td>\n",
       "      <td>11.325762</td>\n",
       "    </tr>\n",
       "    <tr>\n",
       "      <th>2019-12-27</th>\n",
       "      <td>11.7</td>\n",
       "      <td>11.270178</td>\n",
       "    </tr>\n",
       "    <tr>\n",
       "      <th>2019-12-28</th>\n",
       "      <td>10.8</td>\n",
       "      <td>11.833419</td>\n",
       "    </tr>\n",
       "    <tr>\n",
       "      <th>2019-12-29</th>\n",
       "      <td>7.0</td>\n",
       "      <td>11.315054</td>\n",
       "    </tr>\n",
       "    <tr>\n",
       "      <th>2019-12-30</th>\n",
       "      <td>7.0</td>\n",
       "      <td>8.025556</td>\n",
       "    </tr>\n",
       "  </tbody>\n",
       "</table>\n",
       "<p>364 rows × 2 columns</p>\n",
       "</div>"
      ],
      "text/plain": [
       "            actual  predictions\n",
       "DATE                           \n",
       "2019-01-01     6.2     3.011021\n",
       "2019-01-02     6.5     6.180255\n",
       "2019-01-03     6.4     6.486858\n",
       "2019-01-04    10.8     6.906533\n",
       "2019-01-05    10.2    10.712889\n",
       "...            ...          ...\n",
       "2019-12-26    11.3    11.325762\n",
       "2019-12-27    11.7    11.270178\n",
       "2019-12-28    10.8    11.833419\n",
       "2019-12-29     7.0    11.315054\n",
       "2019-12-30     7.0     8.025556\n",
       "\n",
       "[364 rows x 2 columns]"
      ]
     },
     "execution_count": 27,
     "metadata": {},
     "output_type": "execute_result"
    }
   ],
   "source": [
    "combined = pd.concat([test['target'],pd.Series(model_predictions,index=test.index)], axis=1)\n",
    "combined.columns = ['actual','predictions']\n",
    "combined"
   ]
  },
  {
   "cell_type": "code",
   "execution_count": 28,
   "id": "57972765",
   "metadata": {},
   "outputs": [
    {
     "data": {
      "text/plain": [
       "<AxesSubplot:xlabel='DATE'>"
      ]
     },
     "execution_count": 28,
     "metadata": {},
     "output_type": "execute_result"
    },
    {
     "data": {
      "image/png": "[encoded data removed]",
      "text/plain": [
       "<Figure size 432x288 with 1 Axes>"
      ]
     },
     "metadata": {
      "needs_background": "light"
     },
     "output_type": "display_data"
    }
   ],
   "source": [
    "combined.plot()"
   ]
  },
  {
   "cell_type": "markdown",
   "id": "772c25e3",
   "metadata": {},
   "source": [
    "Great! We have built a rough ridge regression model to predict weather. From the plot above, we can see that the predictions and the actual values line up pretty well.\n",
    "\n",
    "However, let's see whether we can make any improvements.\n",
    "\n",
    "There are other improvements that can be made to the model – which I will be adding below:\n",
    "- engineering features: what features can we add from this dataset (e.g. monthly average? day of the year average?)\n",
    "- can we use other regression models, e.g. "
   ]
  },
  {
   "cell_type": "markdown",
   "id": "c53a4cb3",
   "metadata": {},
   "source": [
    "#### Engineering additional features"
   ]
  },
  {
   "cell_type": "markdown",
   "id": "7d480eb0",
   "metadata": {},
   "source": [
    "There are a few features that would be nice to create:\n",
    "1. What's the average temparature of the month of the year (e.g. average temperature of December)?\n",
    "2. What's the average temperature of the day of the year (e.g. Dec 13th)?\n"
   ]
  },
  {
   "cell_type": "code",
   "execution_count": 29,
   "id": "ded302bf",
   "metadata": {},
   "outputs": [],
   "source": [
    "core_weather[\"monthly_avg\"] = core_weather[\"temp_max\"].groupby(core_weather.index.month).apply(lambda x: x.expanding(1).mean())\n",
    "core_weather[\"day_of_year_avg\"] = core_weather[\"temp_max\"].groupby(core_weather.index.day_of_year).apply(lambda x: x.expanding(1).mean())"
   ]
  },
  {
   "cell_type": "code",
   "execution_count": 30,
   "id": "5cfe166a",
   "metadata": {},
   "outputs": [],
   "source": [
    "## We will add the additional features into the model\n",
    "predictors = [\"precip\", \"temp_max\", \"temp_min\",\"monthly_avg\",\"day_of_year_avg\"]\n",
    "train = core_weather.loc[:\"2018-12-31\"]\n",
    "test = core_weather.loc[\"2019-01-01\":]"
   ]
  },
  {
   "cell_type": "code",
   "execution_count": 31,
   "id": "9953005e",
   "metadata": {},
   "outputs": [],
   "source": [
    "## Now let's run the model\n",
    "reg = Ridge(alpha=0.1)\n",
    "reg.fit(train[predictors],train['target'])\n",
    "model_predictions = reg.predict(test[predictors])"
   ]
  },
  {
   "cell_type": "code",
   "execution_count": 32,
   "id": "bac3bfcc",
   "metadata": {},
   "outputs": [
    {
     "name": "stdout",
     "output_type": "stream",
     "text": [
      "Model RMSE: 2.3172443199812136\n",
      "Model R-squared: 0.8300525250457833\n"
     ]
    }
   ],
   "source": [
    "model_rmse = math.sqrt(mean_squared_error(test['target'],model_predictions))\n",
    "model_r2 = r2_score(test['target'],model_predictions)\n",
    "print(f'Model RMSE: {model_rmse}')\n",
    "print(f'Model R-squared: {model_r2}')"
   ]
  },
  {
   "cell_type": "markdown",
   "id": "8e9550e4",
   "metadata": {},
   "source": [
    "Here, we can see that the addition of these features have resulted in a lower error score. Both the RMSE and R-squared values for this model is lower than the previous one."
   ]
  },
  {
   "cell_type": "code",
   "execution_count": 33,
   "id": "197e6255",
   "metadata": {},
   "outputs": [
    {
     "data": {
      "text/html": [
       "<div>\n",
       "<style scoped>\n",
       "    .dataframe tbody tr th:only-of-type {\n",
       "        vertical-align: middle;\n",
       "    }\n",
       "\n",
       "    .dataframe tbody tr th {\n",
       "        vertical-align: top;\n",
       "    }\n",
       "\n",
       "    .dataframe thead th {\n",
       "        text-align: right;\n",
       "    }\n",
       "</style>\n",
       "<table border=\"1\" class=\"dataframe\">\n",
       "  <thead>\n",
       "    <tr style=\"text-align: right;\">\n",
       "      <th></th>\n",
       "      <th>actual</th>\n",
       "      <th>predictions</th>\n",
       "    </tr>\n",
       "    <tr>\n",
       "      <th>DATE</th>\n",
       "      <th></th>\n",
       "      <th></th>\n",
       "    </tr>\n",
       "  </thead>\n",
       "  <tbody>\n",
       "    <tr>\n",
       "      <th>2019-01-01</th>\n",
       "      <td>6.2</td>\n",
       "      <td>2.831439</td>\n",
       "    </tr>\n",
       "    <tr>\n",
       "      <th>2019-01-02</th>\n",
       "      <td>6.5</td>\n",
       "      <td>5.987410</td>\n",
       "    </tr>\n",
       "    <tr>\n",
       "      <th>2019-01-03</th>\n",
       "      <td>6.4</td>\n",
       "      <td>6.229781</td>\n",
       "    </tr>\n",
       "    <tr>\n",
       "      <th>2019-01-04</th>\n",
       "      <td>10.8</td>\n",
       "      <td>6.251597</td>\n",
       "    </tr>\n",
       "    <tr>\n",
       "      <th>2019-01-05</th>\n",
       "      <td>10.2</td>\n",
       "      <td>9.270975</td>\n",
       "    </tr>\n",
       "    <tr>\n",
       "      <th>...</th>\n",
       "      <td>...</td>\n",
       "      <td>...</td>\n",
       "    </tr>\n",
       "    <tr>\n",
       "      <th>2019-12-26</th>\n",
       "      <td>11.3</td>\n",
       "      <td>9.826799</td>\n",
       "    </tr>\n",
       "    <tr>\n",
       "      <th>2019-12-27</th>\n",
       "      <td>11.7</td>\n",
       "      <td>9.729044</td>\n",
       "    </tr>\n",
       "    <tr>\n",
       "      <th>2019-12-28</th>\n",
       "      <td>10.8</td>\n",
       "      <td>10.056255</td>\n",
       "    </tr>\n",
       "    <tr>\n",
       "      <th>2019-12-29</th>\n",
       "      <td>7.0</td>\n",
       "      <td>9.512675</td>\n",
       "    </tr>\n",
       "    <tr>\n",
       "      <th>2019-12-30</th>\n",
       "      <td>7.0</td>\n",
       "      <td>6.896304</td>\n",
       "    </tr>\n",
       "  </tbody>\n",
       "</table>\n",
       "<p>364 rows × 2 columns</p>\n",
       "</div>"
      ],
      "text/plain": [
       "            actual  predictions\n",
       "DATE                           \n",
       "2019-01-01     6.2     2.831439\n",
       "2019-01-02     6.5     5.987410\n",
       "2019-01-03     6.4     6.229781\n",
       "2019-01-04    10.8     6.251597\n",
       "2019-01-05    10.2     9.270975\n",
       "...            ...          ...\n",
       "2019-12-26    11.3     9.826799\n",
       "2019-12-27    11.7     9.729044\n",
       "2019-12-28    10.8    10.056255\n",
       "2019-12-29     7.0     9.512675\n",
       "2019-12-30     7.0     6.896304\n",
       "\n",
       "[364 rows x 2 columns]"
      ]
     },
     "execution_count": 33,
     "metadata": {},
     "output_type": "execute_result"
    }
   ],
   "source": [
    "combined = pd.concat([test['target'],pd.Series(model_predictions,index=test.index)], axis=1)\n",
    "combined.columns = ['actual','predictions']\n",
    "combined"
   ]
  },
  {
   "cell_type": "code",
   "execution_count": 34,
   "id": "4413b18c",
   "metadata": {},
   "outputs": [
    {
     "data": {
      "text/plain": [
       "<AxesSubplot:xlabel='DATE'>"
      ]
     },
     "execution_count": 34,
     "metadata": {},
     "output_type": "execute_result"
    },
    {
     "data": {
      "image/png": "[encoded data removed]",
      "text/plain": [
       "<Figure size 432x288 with 1 Axes>"
      ]
     },
     "metadata": {
      "needs_background": "light"
     },
     "output_type": "display_data"
    }
   ],
   "source": [
    "combined.plot()"
   ]
  }
 ],
 "metadata": {
  "kernelspec": {
   "display_name": "Python 3",
   "language": "python",
   "name": "python3"
  },
  "language_info": {
   "codemirror_mode": {
    "name": "ipython",
    "version": 3
   },
   "file_extension": ".py",
   "mimetype": "text/x-python",
   "name": "python",
   "nbconvert_exporter": "python",
   "pygments_lexer": "ipython3",
   "version": "3.8.2"
  }
 },
 "nbformat": 4,
 "nbformat_minor": 5
}
