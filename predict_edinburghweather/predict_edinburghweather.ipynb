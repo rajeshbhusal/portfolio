{
 "cells": [
  {
   "cell_type": "markdown",
   "id": "d8eaf7b1",
   "metadata": {},
   "source": [
    "### Intro\n",
    "\n",
    "In this notebook, I replicate a weather prediction model as presented by Vik Paruchuri from Dataquest. I download a dataset on Edinburgh's UK weather from 1970-2019 to train and test a daily weather prediction model using linear regression."
   ]
  },
  {
   "cell_type": "markdown",
   "id": "48842360",
   "metadata": {},
   "source": [
    "### Download the data"
   ]
  },
  {
   "cell_type": "raw",
   "id": "c1d2dbdf",
   "metadata": {},
   "source": [
    "## The material that this notebook is based off of can be found here: https://github.com/dataquestio/project-walkthroughs/tree/master/weather"
   ]
  },
  {
   "cell_type": "raw",
   "id": "e629f37c",
   "metadata": {},
   "source": [
    "## Downloading the data:\n",
    "* https://www.ncdc.noaa.gov/cdo-web/search\n",
    "* search for Edinburgh, UK\n",
    "* download daily summaries from 1970 onwards\n",
    "* documentation for the dataset can be found here: https://www1.ncdc.noaa.gov/pub/data/cdo/documentation/GHCND_documentation.pdf"
   ]
  },
  {
   "cell_type": "markdown",
   "id": "73136baa",
   "metadata": {},
   "source": [
    "### Import necessary library and the dataset"
   ]
  },
  {
   "cell_type": "code",
   "execution_count": 66,
   "id": "db44696b",
   "metadata": {},
   "outputs": [],
   "source": [
    "## Importing necessary libraries\n",
    "import pandas as pd\n",
    "import numpy as np\n",
    "from sklearn.linear_model import Ridge\n",
    "from sklearn.metrics import mean_squared_error\n",
    "import math"
   ]
  },
  {
   "cell_type": "code",
   "execution_count": 32,
   "id": "d555f5d4",
   "metadata": {},
   "outputs": [
    {
     "data": {
      "text/html": [
       "<div>\n",
       "<style scoped>\n",
       "    .dataframe tbody tr th:only-of-type {\n",
       "        vertical-align: middle;\n",
       "    }\n",
       "\n",
       "    .dataframe tbody tr th {\n",
       "        vertical-align: top;\n",
       "    }\n",
       "\n",
       "    .dataframe thead th {\n",
       "        text-align: right;\n",
       "    }\n",
       "</style>\n",
       "<table border=\"1\" class=\"dataframe\">\n",
       "  <thead>\n",
       "    <tr style=\"text-align: right;\">\n",
       "      <th></th>\n",
       "      <th>STATION</th>\n",
       "      <th>NAME</th>\n",
       "      <th>LATITUDE</th>\n",
       "      <th>LONGITUDE</th>\n",
       "      <th>ELEVATION</th>\n",
       "      <th>PRCP</th>\n",
       "      <th>PRCP_ATTRIBUTES</th>\n",
       "      <th>TMAX</th>\n",
       "      <th>TMAX_ATTRIBUTES</th>\n",
       "      <th>TMIN</th>\n",
       "      <th>TMIN_ATTRIBUTES</th>\n",
       "    </tr>\n",
       "    <tr>\n",
       "      <th>DATE</th>\n",
       "      <th></th>\n",
       "      <th></th>\n",
       "      <th></th>\n",
       "      <th></th>\n",
       "      <th></th>\n",
       "      <th></th>\n",
       "      <th></th>\n",
       "      <th></th>\n",
       "      <th></th>\n",
       "      <th></th>\n",
       "      <th></th>\n",
       "    </tr>\n",
       "  </thead>\n",
       "  <tbody>\n",
       "    <tr>\n",
       "      <th>1970-01-01</th>\n",
       "      <td>UKE00105887</td>\n",
       "      <td>PENICUIK, UK</td>\n",
       "      <td>55.8239</td>\n",
       "      <td>-3.2258</td>\n",
       "      <td>185.0</td>\n",
       "      <td>0.0</td>\n",
       "      <td>,,E</td>\n",
       "      <td>5.0</td>\n",
       "      <td>,,E</td>\n",
       "      <td>-0.6</td>\n",
       "      <td>,,E</td>\n",
       "    </tr>\n",
       "    <tr>\n",
       "      <th>1970-01-02</th>\n",
       "      <td>UKE00105887</td>\n",
       "      <td>PENICUIK, UK</td>\n",
       "      <td>55.8239</td>\n",
       "      <td>-3.2258</td>\n",
       "      <td>185.0</td>\n",
       "      <td>1.8</td>\n",
       "      <td>,,E</td>\n",
       "      <td>0.6</td>\n",
       "      <td>,I,E</td>\n",
       "      <td>1.1</td>\n",
       "      <td>,I,E</td>\n",
       "    </tr>\n",
       "    <tr>\n",
       "      <th>1970-01-03</th>\n",
       "      <td>UKE00105887</td>\n",
       "      <td>PENICUIK, UK</td>\n",
       "      <td>55.8239</td>\n",
       "      <td>-3.2258</td>\n",
       "      <td>185.0</td>\n",
       "      <td>0.0</td>\n",
       "      <td>,,E</td>\n",
       "      <td>1.7</td>\n",
       "      <td>,,E</td>\n",
       "      <td>-5.0</td>\n",
       "      <td>,,E</td>\n",
       "    </tr>\n",
       "    <tr>\n",
       "      <th>1970-01-04</th>\n",
       "      <td>UKE00105887</td>\n",
       "      <td>PENICUIK, UK</td>\n",
       "      <td>55.8239</td>\n",
       "      <td>-3.2258</td>\n",
       "      <td>185.0</td>\n",
       "      <td>0.0</td>\n",
       "      <td>,,E</td>\n",
       "      <td>-0.6</td>\n",
       "      <td>,,E</td>\n",
       "      <td>-3.3</td>\n",
       "      <td>,,E</td>\n",
       "    </tr>\n",
       "    <tr>\n",
       "      <th>1970-01-05</th>\n",
       "      <td>UKE00105887</td>\n",
       "      <td>PENICUIK, UK</td>\n",
       "      <td>55.8239</td>\n",
       "      <td>-3.2258</td>\n",
       "      <td>185.0</td>\n",
       "      <td>8.4</td>\n",
       "      <td>,,E</td>\n",
       "      <td>-2.8</td>\n",
       "      <td>,,E</td>\n",
       "      <td>-6.7</td>\n",
       "      <td>,,E</td>\n",
       "    </tr>\n",
       "  </tbody>\n",
       "</table>\n",
       "</div>"
      ],
      "text/plain": [
       "                STATION          NAME  LATITUDE  LONGITUDE  ELEVATION  PRCP  \\\n",
       "DATE                                                                          \n",
       "1970-01-01  UKE00105887  PENICUIK, UK   55.8239    -3.2258      185.0   0.0   \n",
       "1970-01-02  UKE00105887  PENICUIK, UK   55.8239    -3.2258      185.0   1.8   \n",
       "1970-01-03  UKE00105887  PENICUIK, UK   55.8239    -3.2258      185.0   0.0   \n",
       "1970-01-04  UKE00105887  PENICUIK, UK   55.8239    -3.2258      185.0   0.0   \n",
       "1970-01-05  UKE00105887  PENICUIK, UK   55.8239    -3.2258      185.0   8.4   \n",
       "\n",
       "           PRCP_ATTRIBUTES  TMAX TMAX_ATTRIBUTES  TMIN TMIN_ATTRIBUTES  \n",
       "DATE                                                                    \n",
       "1970-01-01             ,,E   5.0             ,,E  -0.6             ,,E  \n",
       "1970-01-02             ,,E   0.6            ,I,E   1.1            ,I,E  \n",
       "1970-01-03             ,,E   1.7             ,,E  -5.0             ,,E  \n",
       "1970-01-04             ,,E  -0.6             ,,E  -3.3             ,,E  \n",
       "1970-01-05             ,,E  -2.8             ,,E  -6.7             ,,E  "
      ]
     },
     "execution_count": 32,
     "metadata": {},
     "output_type": "execute_result"
    }
   ],
   "source": [
    "## Import the dataset (in CSV format) & observe the columns / general structure\n",
    "weather = pd.read_csv('edinburgh_weather_noaa.csv',index_col = \"DATE\")\n",
    "weather.head()"
   ]
  },
  {
   "cell_type": "raw",
   "id": "96f0fdab",
   "metadata": {},
   "source": [
    "From the data documentation, we can see the following:\n",
    "* PRCP = Precipitation (mm or inches as per user preference, inches to hundredths on Daily Form pdf file)\n",
    "* TMAX = Maximum temperature (Fahrenheit or Celsius as per user preference, Fahrenheit to tenths on \n",
    "Daily Form pdf file\n",
    "* TMIN = Minimum temperature (Fahrenheit or Celsius as per user preference, Fahrenheit to tenths on \n",
    "Daily Form pdf file\n",
    "\n",
    "** Note: during the download, you can specify the units. I have downloaded all data in metric units, so precipitation will be in centimeters and temperature will be in Celsius."
   ]
  },
  {
   "cell_type": "markdown",
   "id": "03692eb8",
   "metadata": {},
   "source": [
    "### Data cleaning"
   ]
  },
  {
   "cell_type": "code",
   "execution_count": 33,
   "id": "b00dedd7",
   "metadata": {},
   "outputs": [
    {
     "data": {
      "text/plain": [
       "STATION            0.000000\n",
       "NAME               0.000000\n",
       "LATITUDE           0.000000\n",
       "LONGITUDE          0.000000\n",
       "ELEVATION          0.000000\n",
       "PRCP               1.391798\n",
       "PRCP_ATTRIBUTES    1.391798\n",
       "TMAX               0.945320\n",
       "TMAX_ATTRIBUTES    0.945320\n",
       "TMIN               0.620108\n",
       "TMIN_ATTRIBUTES    0.620108\n",
       "dtype: float64"
      ]
     },
     "execution_count": 33,
     "metadata": {},
     "output_type": "execute_result"
    }
   ],
   "source": [
    "## Check for % of obsv. with null values in the dataset\n",
    "(weather.isnull().sum() / weather.shape[0]) * 100"
   ]
  },
  {
   "cell_type": "code",
   "execution_count": 34,
   "id": "a88fb400",
   "metadata": {},
   "outputs": [],
   "source": [
    "## Let's just keep the columns that are relevant. We want to just keep the precipitation, max temp., and min temp.\n",
    "core_weather = weather[[\"PRCP\", \"TMAX\", \"TMIN\"]].copy()\n",
    "core_weather.columns = [\"precip\", \"temp_max\", \"temp_min\"]"
   ]
  },
  {
   "cell_type": "code",
   "execution_count": 35,
   "id": "2599b7b9",
   "metadata": {},
   "outputs": [
    {
     "data": {
      "text/plain": [
       "0.0     0.407618\n",
       "0.2     0.043077\n",
       "0.1     0.039411\n",
       "0.4     0.025466\n",
       "0.3     0.024639\n",
       "          ...   \n",
       "31.3    0.000028\n",
       "30.2    0.000028\n",
       "39.8    0.000028\n",
       "45.9    0.000028\n",
       "29.7    0.000028\n",
       "Name: precip, Length: 380, dtype: float64"
      ]
     },
     "execution_count": 35,
     "metadata": {},
     "output_type": "execute_result"
    }
   ],
   "source": [
    "## The bulk of the observations (~41%) have precipiation level of 0\n",
    "## In this case, it might be reasonable to fill all the null values with '0' and not lose explanatory values of the data\n",
    "core_weather['precip'].value_counts() / core_weather.shape[0]"
   ]
  },
  {
   "cell_type": "code",
   "execution_count": 36,
   "id": "10b7c1d3",
   "metadata": {},
   "outputs": [],
   "source": [
    "## Filling the null values of the 'precip' column with zeros\n",
    "core_weather['precip'] = core_weather['precip'].fillna(0)"
   ]
  },
  {
   "cell_type": "markdown",
   "id": "5695be2a",
   "metadata": {},
   "source": [
    "Below, we can see that the 'temp_max' data is empty for stretches of days while the pattern is not that predictable for 'temp_min' data.\n",
    "\n",
    "For 'temp_max', it might be valuable to fill these null values based on the averages of the known values from the same day over the past years. For example, 2017-09-22 data for 'temp_max' could be calculated by taking the average of the 'temp_max' values for 2014-09-22, 2015-09-22, 2016-09-22... \n",
    "\n",
    "For simplicity's sake, and because the % of null values is relatively small (less than 1%), we use a built-in function to fill the nulls, i.e. 'ffill', which forward fills the null values based on the last known value."
   ]
  },
  {
   "cell_type": "code",
   "execution_count": 37,
   "id": "265d9c47",
   "metadata": {},
   "outputs": [
    {
     "data": {
      "text/html": [
       "<div>\n",
       "<style scoped>\n",
       "    .dataframe tbody tr th:only-of-type {\n",
       "        vertical-align: middle;\n",
       "    }\n",
       "\n",
       "    .dataframe tbody tr th {\n",
       "        vertical-align: top;\n",
       "    }\n",
       "\n",
       "    .dataframe thead th {\n",
       "        text-align: right;\n",
       "    }\n",
       "</style>\n",
       "<table border=\"1\" class=\"dataframe\">\n",
       "  <thead>\n",
       "    <tr style=\"text-align: right;\">\n",
       "      <th></th>\n",
       "      <th>precip</th>\n",
       "      <th>temp_max</th>\n",
       "      <th>temp_min</th>\n",
       "    </tr>\n",
       "    <tr>\n",
       "      <th>DATE</th>\n",
       "      <th></th>\n",
       "      <th></th>\n",
       "      <th></th>\n",
       "    </tr>\n",
       "  </thead>\n",
       "  <tbody>\n",
       "    <tr>\n",
       "      <th>2017-09-22</th>\n",
       "      <td>0.0</td>\n",
       "      <td>NaN</td>\n",
       "      <td>NaN</td>\n",
       "    </tr>\n",
       "    <tr>\n",
       "      <th>2017-09-23</th>\n",
       "      <td>0.2</td>\n",
       "      <td>NaN</td>\n",
       "      <td>NaN</td>\n",
       "    </tr>\n",
       "    <tr>\n",
       "      <th>2017-09-24</th>\n",
       "      <td>0.0</td>\n",
       "      <td>NaN</td>\n",
       "      <td>10.0</td>\n",
       "    </tr>\n",
       "    <tr>\n",
       "      <th>2017-09-25</th>\n",
       "      <td>6.4</td>\n",
       "      <td>NaN</td>\n",
       "      <td>NaN</td>\n",
       "    </tr>\n",
       "    <tr>\n",
       "      <th>2017-09-26</th>\n",
       "      <td>0.0</td>\n",
       "      <td>NaN</td>\n",
       "      <td>9.3</td>\n",
       "    </tr>\n",
       "    <tr>\n",
       "      <th>2017-09-27</th>\n",
       "      <td>1.1</td>\n",
       "      <td>NaN</td>\n",
       "      <td>9.2</td>\n",
       "    </tr>\n",
       "    <tr>\n",
       "      <th>2017-09-28</th>\n",
       "      <td>0.0</td>\n",
       "      <td>NaN</td>\n",
       "      <td>NaN</td>\n",
       "    </tr>\n",
       "    <tr>\n",
       "      <th>2017-09-29</th>\n",
       "      <td>0.0</td>\n",
       "      <td>NaN</td>\n",
       "      <td>9.8</td>\n",
       "    </tr>\n",
       "    <tr>\n",
       "      <th>2017-09-30</th>\n",
       "      <td>1.9</td>\n",
       "      <td>NaN</td>\n",
       "      <td>NaN</td>\n",
       "    </tr>\n",
       "    <tr>\n",
       "      <th>2017-10-01</th>\n",
       "      <td>1.9</td>\n",
       "      <td>NaN</td>\n",
       "      <td>0.0</td>\n",
       "    </tr>\n",
       "  </tbody>\n",
       "</table>\n",
       "</div>"
      ],
      "text/plain": [
       "            precip  temp_max  temp_min\n",
       "DATE                                  \n",
       "2017-09-22     0.0       NaN       NaN\n",
       "2017-09-23     0.2       NaN       NaN\n",
       "2017-09-24     0.0       NaN      10.0\n",
       "2017-09-25     6.4       NaN       NaN\n",
       "2017-09-26     0.0       NaN       9.3\n",
       "2017-09-27     1.1       NaN       9.2\n",
       "2017-09-28     0.0       NaN       NaN\n",
       "2017-09-29     0.0       NaN       9.8\n",
       "2017-09-30     1.9       NaN       NaN\n",
       "2017-10-01     1.9       NaN       0.0"
      ]
     },
     "execution_count": 37,
     "metadata": {},
     "output_type": "execute_result"
    }
   ],
   "source": [
    "## Checking the instances where the 'temp_max' and 'temp_min' columns are null.\n",
    "core_weather[core_weather['temp_max'].isnull()][90:100]"
   ]
  },
  {
   "cell_type": "code",
   "execution_count": 38,
   "id": "972c0bed",
   "metadata": {},
   "outputs": [
    {
     "data": {
      "text/html": [
       "<div>\n",
       "<style scoped>\n",
       "    .dataframe tbody tr th:only-of-type {\n",
       "        vertical-align: middle;\n",
       "    }\n",
       "\n",
       "    .dataframe tbody tr th {\n",
       "        vertical-align: top;\n",
       "    }\n",
       "\n",
       "    .dataframe thead th {\n",
       "        text-align: right;\n",
       "    }\n",
       "</style>\n",
       "<table border=\"1\" class=\"dataframe\">\n",
       "  <thead>\n",
       "    <tr style=\"text-align: right;\">\n",
       "      <th></th>\n",
       "      <th>precip</th>\n",
       "      <th>temp_max</th>\n",
       "      <th>temp_min</th>\n",
       "    </tr>\n",
       "    <tr>\n",
       "      <th>DATE</th>\n",
       "      <th></th>\n",
       "      <th></th>\n",
       "      <th></th>\n",
       "    </tr>\n",
       "  </thead>\n",
       "  <tbody>\n",
       "    <tr>\n",
       "      <th>2012-03-20</th>\n",
       "      <td>0.0</td>\n",
       "      <td>NaN</td>\n",
       "      <td>NaN</td>\n",
       "    </tr>\n",
       "    <tr>\n",
       "      <th>2012-03-21</th>\n",
       "      <td>0.0</td>\n",
       "      <td>NaN</td>\n",
       "      <td>NaN</td>\n",
       "    </tr>\n",
       "    <tr>\n",
       "      <th>2012-03-22</th>\n",
       "      <td>0.0</td>\n",
       "      <td>14.0</td>\n",
       "      <td>NaN</td>\n",
       "    </tr>\n",
       "    <tr>\n",
       "      <th>2012-03-23</th>\n",
       "      <td>0.0</td>\n",
       "      <td>13.5</td>\n",
       "      <td>NaN</td>\n",
       "    </tr>\n",
       "    <tr>\n",
       "      <th>2012-05-08</th>\n",
       "      <td>0.0</td>\n",
       "      <td>12.2</td>\n",
       "      <td>NaN</td>\n",
       "    </tr>\n",
       "    <tr>\n",
       "      <th>2012-05-09</th>\n",
       "      <td>11.3</td>\n",
       "      <td>NaN</td>\n",
       "      <td>NaN</td>\n",
       "    </tr>\n",
       "    <tr>\n",
       "      <th>2012-05-11</th>\n",
       "      <td>6.1</td>\n",
       "      <td>14.0</td>\n",
       "      <td>NaN</td>\n",
       "    </tr>\n",
       "    <tr>\n",
       "      <th>2012-05-15</th>\n",
       "      <td>0.2</td>\n",
       "      <td>NaN</td>\n",
       "      <td>NaN</td>\n",
       "    </tr>\n",
       "    <tr>\n",
       "      <th>2012-05-18</th>\n",
       "      <td>4.4</td>\n",
       "      <td>11.7</td>\n",
       "      <td>NaN</td>\n",
       "    </tr>\n",
       "    <tr>\n",
       "      <th>2012-05-19</th>\n",
       "      <td>0.0</td>\n",
       "      <td>13.3</td>\n",
       "      <td>NaN</td>\n",
       "    </tr>\n",
       "  </tbody>\n",
       "</table>\n",
       "</div>"
      ],
      "text/plain": [
       "            precip  temp_max  temp_min\n",
       "DATE                                  \n",
       "2012-03-20     0.0       NaN       NaN\n",
       "2012-03-21     0.0       NaN       NaN\n",
       "2012-03-22     0.0      14.0       NaN\n",
       "2012-03-23     0.0      13.5       NaN\n",
       "2012-05-08     0.0      12.2       NaN\n",
       "2012-05-09    11.3       NaN       NaN\n",
       "2012-05-11     6.1      14.0       NaN\n",
       "2012-05-15     0.2       NaN       NaN\n",
       "2012-05-18     4.4      11.7       NaN\n",
       "2012-05-19     0.0      13.3       NaN"
      ]
     },
     "execution_count": 38,
     "metadata": {},
     "output_type": "execute_result"
    }
   ],
   "source": [
    "core_weather[core_weather['temp_min'].isnull()][80:90]"
   ]
  },
  {
   "cell_type": "code",
   "execution_count": 40,
   "id": "cf2e5e45",
   "metadata": {},
   "outputs": [],
   "source": [
    "## Filling the null of the two columns using the ffill method\n",
    "core_weather[['temp_max','temp_min']] = core_weather[['temp_max','temp_min']].fillna(method=\"ffill\")"
   ]
  },
  {
   "cell_type": "code",
   "execution_count": 41,
   "id": "15728fd0",
   "metadata": {},
   "outputs": [
    {
     "data": {
      "text/plain": [
       "precip      0.0\n",
       "temp_max    0.0\n",
       "temp_min    0.0\n",
       "dtype: float64"
      ]
     },
     "execution_count": 41,
     "metadata": {},
     "output_type": "execute_result"
    }
   ],
   "source": [
    "## Let's check again for nulls and verify we have taken care of all of them.\n",
    "(core_weather.isnull().sum() / core_weather.shape[0]) * 100"
   ]
  },
  {
   "cell_type": "markdown",
   "id": "19ad390a",
   "metadata": {},
   "source": [
    "We want to extract useful information from the date index. Currently, pandas just knows it as string values. We can convert it to a datetime object so that we can get useful information such as year, month, and day from it."
   ]
  },
  {
   "cell_type": "code",
   "execution_count": 45,
   "id": "f318606c",
   "metadata": {},
   "outputs": [
    {
     "data": {
      "text/plain": [
       "DatetimeIndex(['1970-01-01', '1970-01-02', '1970-01-03', '1970-01-04',\n",
       "               '1970-01-05', '1970-01-06', '1970-01-07', '1970-01-08',\n",
       "               '1970-01-09', '1970-01-10',\n",
       "               ...\n",
       "               '2019-12-22', '2019-12-23', '2019-12-24', '2019-12-25',\n",
       "               '2019-12-26', '2019-12-27', '2019-12-28', '2019-12-29',\n",
       "               '2019-12-30', '2019-12-31'],\n",
       "              dtype='datetime64[ns]', name='DATE', length=36284, freq=None)"
      ]
     },
     "execution_count": 45,
     "metadata": {},
     "output_type": "execute_result"
    }
   ],
   "source": [
    "## Converting the index to datetime\n",
    "core_weather.index = pd.to_datetime(core_weather.index)\n",
    "core_weather.index"
   ]
  },
  {
   "cell_type": "code",
   "execution_count": 46,
   "id": "b626535c",
   "metadata": {},
   "outputs": [
    {
     "data": {
      "text/plain": [
       "Int64Index([1970, 1970, 1970, 1970, 1970, 1970, 1970, 1970, 1970, 1970,\n",
       "            ...\n",
       "            2019, 2019, 2019, 2019, 2019, 2019, 2019, 2019, 2019, 2019],\n",
       "           dtype='int64', name='DATE', length=36284)"
      ]
     },
     "execution_count": 46,
     "metadata": {},
     "output_type": "execute_result"
    }
   ],
   "source": [
    "## As mentioned above, this allows us to get useful information, e.g. the year value\n",
    "core_weather.index.year"
   ]
  },
  {
   "cell_type": "code",
   "execution_count": 49,
   "id": "e3d16ee0",
   "metadata": {},
   "outputs": [
    {
     "data": {
      "text/plain": [
       "<AxesSubplot:xlabel='DATE'>"
      ]
     },
     "execution_count": 49,
     "metadata": {},
     "output_type": "execute_result"
    },
    {
     "data": {
      "image/png": "[encoded data removed]",
      "text/plain": [
       "<Figure size 432x288 with 1 Axes>"
      ]
     },
     "metadata": {
      "needs_background": "light"
     },
     "output_type": "display_data"
    }
   ],
   "source": [
    "## Finally, let's get see how the data looks over time\n",
    "core_weather[[\"temp_max\", \"temp_min\"]].plot()"
   ]
  },
  {
   "cell_type": "code",
   "execution_count": 50,
   "id": "556c42f7",
   "metadata": {},
   "outputs": [
    {
     "data": {
      "text/plain": [
       "<AxesSubplot:xlabel='DATE'>"
      ]
     },
     "execution_count": 50,
     "metadata": {},
     "output_type": "execute_result"
    },
    {
     "data": {
      "image/png": "[encoded data removed]",
      "text/plain": [
       "<Figure size 432x288 with 1 Axes>"
      ]
     },
     "metadata": {
      "needs_background": "light"
     },
     "output_type": "display_data"
    }
   ],
   "source": [
    "core_weather[\"precip\"].plot()"
   ]
  },
  {
   "cell_type": "markdown",
   "id": "cb6447b6",
   "metadata": {},
   "source": [
    "### Building initial predictive models\n",
    "\n",
    "There are many ways one could go about building a weather prediction model. You can look at all historical data to get insights on how the weather will look like over the coming week or month.\n",
    "\n",
    "**For the purpose of this model, we will predict tomorrow's weather using the information we have today.**\n",
    "\n",
    "To have a model that predicts tomorrow's temperature using the information we have today, we need to build a target variable column that represents tomorrow's weather. We will use this target data to train the model."
   ]
  },
  {
   "cell_type": "code",
   "execution_count": 52,
   "id": "84ea5896",
   "metadata": {},
   "outputs": [
    {
     "data": {
      "text/html": [
       "<div>\n",
       "<style scoped>\n",
       "    .dataframe tbody tr th:only-of-type {\n",
       "        vertical-align: middle;\n",
       "    }\n",
       "\n",
       "    .dataframe tbody tr th {\n",
       "        vertical-align: top;\n",
       "    }\n",
       "\n",
       "    .dataframe thead th {\n",
       "        text-align: right;\n",
       "    }\n",
       "</style>\n",
       "<table border=\"1\" class=\"dataframe\">\n",
       "  <thead>\n",
       "    <tr style=\"text-align: right;\">\n",
       "      <th></th>\n",
       "      <th>precip</th>\n",
       "      <th>temp_max</th>\n",
       "      <th>temp_min</th>\n",
       "      <th>target</th>\n",
       "    </tr>\n",
       "    <tr>\n",
       "      <th>DATE</th>\n",
       "      <th></th>\n",
       "      <th></th>\n",
       "      <th></th>\n",
       "      <th></th>\n",
       "    </tr>\n",
       "  </thead>\n",
       "  <tbody>\n",
       "    <tr>\n",
       "      <th>1970-01-01</th>\n",
       "      <td>0.0</td>\n",
       "      <td>5.0</td>\n",
       "      <td>-0.6</td>\n",
       "      <td>0.6</td>\n",
       "    </tr>\n",
       "    <tr>\n",
       "      <th>1970-01-02</th>\n",
       "      <td>1.8</td>\n",
       "      <td>0.6</td>\n",
       "      <td>1.1</td>\n",
       "      <td>1.7</td>\n",
       "    </tr>\n",
       "    <tr>\n",
       "      <th>1970-01-03</th>\n",
       "      <td>0.0</td>\n",
       "      <td>1.7</td>\n",
       "      <td>-5.0</td>\n",
       "      <td>-0.6</td>\n",
       "    </tr>\n",
       "    <tr>\n",
       "      <th>1970-01-04</th>\n",
       "      <td>0.0</td>\n",
       "      <td>-0.6</td>\n",
       "      <td>-3.3</td>\n",
       "      <td>-2.8</td>\n",
       "    </tr>\n",
       "    <tr>\n",
       "      <th>1970-01-05</th>\n",
       "      <td>8.4</td>\n",
       "      <td>-2.8</td>\n",
       "      <td>-6.7</td>\n",
       "      <td>-2.2</td>\n",
       "    </tr>\n",
       "  </tbody>\n",
       "</table>\n",
       "</div>"
      ],
      "text/plain": [
       "            precip  temp_max  temp_min  target\n",
       "DATE                                          \n",
       "1970-01-01     0.0       5.0      -0.6     0.6\n",
       "1970-01-02     1.8       0.6       1.1     1.7\n",
       "1970-01-03     0.0       1.7      -5.0    -0.6\n",
       "1970-01-04     0.0      -0.6      -3.3    -2.8\n",
       "1970-01-05     8.4      -2.8      -6.7    -2.2"
      ]
     },
     "execution_count": 52,
     "metadata": {},
     "output_type": "execute_result"
    }
   ],
   "source": [
    "core_weather[\"target\"] = core_weather.shift(-1)[\"temp_max\"]\n",
    "core_weather.head()"
   ]
  },
  {
   "cell_type": "code",
   "execution_count": 54,
   "id": "1d413407",
   "metadata": {},
   "outputs": [
    {
     "data": {
      "text/html": [
       "<div>\n",
       "<style scoped>\n",
       "    .dataframe tbody tr th:only-of-type {\n",
       "        vertical-align: middle;\n",
       "    }\n",
       "\n",
       "    .dataframe tbody tr th {\n",
       "        vertical-align: top;\n",
       "    }\n",
       "\n",
       "    .dataframe thead th {\n",
       "        text-align: right;\n",
       "    }\n",
       "</style>\n",
       "<table border=\"1\" class=\"dataframe\">\n",
       "  <thead>\n",
       "    <tr style=\"text-align: right;\">\n",
       "      <th></th>\n",
       "      <th>precip</th>\n",
       "      <th>temp_max</th>\n",
       "      <th>temp_min</th>\n",
       "      <th>target</th>\n",
       "    </tr>\n",
       "    <tr>\n",
       "      <th>DATE</th>\n",
       "      <th></th>\n",
       "      <th></th>\n",
       "      <th></th>\n",
       "      <th></th>\n",
       "    </tr>\n",
       "  </thead>\n",
       "  <tbody>\n",
       "    <tr>\n",
       "      <th>2019-12-27</th>\n",
       "      <td>2.0</td>\n",
       "      <td>11.3</td>\n",
       "      <td>3.0</td>\n",
       "      <td>11.7</td>\n",
       "    </tr>\n",
       "    <tr>\n",
       "      <th>2019-12-28</th>\n",
       "      <td>0.0</td>\n",
       "      <td>11.7</td>\n",
       "      <td>5.8</td>\n",
       "      <td>10.8</td>\n",
       "    </tr>\n",
       "    <tr>\n",
       "      <th>2019-12-29</th>\n",
       "      <td>0.0</td>\n",
       "      <td>10.8</td>\n",
       "      <td>9.0</td>\n",
       "      <td>7.0</td>\n",
       "    </tr>\n",
       "    <tr>\n",
       "      <th>2019-12-30</th>\n",
       "      <td>0.0</td>\n",
       "      <td>7.0</td>\n",
       "      <td>8.8</td>\n",
       "      <td>7.0</td>\n",
       "    </tr>\n",
       "    <tr>\n",
       "      <th>2019-12-31</th>\n",
       "      <td>0.2</td>\n",
       "      <td>7.0</td>\n",
       "      <td>-1.3</td>\n",
       "      <td>NaN</td>\n",
       "    </tr>\n",
       "  </tbody>\n",
       "</table>\n",
       "</div>"
      ],
      "text/plain": [
       "            precip  temp_max  temp_min  target\n",
       "DATE                                          \n",
       "2019-12-27     2.0      11.3       3.0    11.7\n",
       "2019-12-28     0.0      11.7       5.8    10.8\n",
       "2019-12-29     0.0      10.8       9.0     7.0\n",
       "2019-12-30     0.0       7.0       8.8     7.0\n",
       "2019-12-31     0.2       7.0      -1.3     NaN"
      ]
     },
     "execution_count": 54,
     "metadata": {},
     "output_type": "execute_result"
    }
   ],
   "source": [
    "## Because the target variable is using the shifted data, the last entry is empty. We will just remove that last row.\n",
    "core_weather.tail()"
   ]
  },
  {
   "cell_type": "code",
   "execution_count": 55,
   "id": "bb804ae2",
   "metadata": {},
   "outputs": [],
   "source": [
    "core_weather = core_weather.iloc[:-1,:].copy()"
   ]
  },
  {
   "cell_type": "code",
   "execution_count": 56,
   "id": "d8dd65b7",
   "metadata": {},
   "outputs": [
    {
     "data": {
      "text/html": [
       "<div>\n",
       "<style scoped>\n",
       "    .dataframe tbody tr th:only-of-type {\n",
       "        vertical-align: middle;\n",
       "    }\n",
       "\n",
       "    .dataframe tbody tr th {\n",
       "        vertical-align: top;\n",
       "    }\n",
       "\n",
       "    .dataframe thead th {\n",
       "        text-align: right;\n",
       "    }\n",
       "</style>\n",
       "<table border=\"1\" class=\"dataframe\">\n",
       "  <thead>\n",
       "    <tr style=\"text-align: right;\">\n",
       "      <th></th>\n",
       "      <th>precip</th>\n",
       "      <th>temp_max</th>\n",
       "      <th>temp_min</th>\n",
       "      <th>target</th>\n",
       "    </tr>\n",
       "    <tr>\n",
       "      <th>DATE</th>\n",
       "      <th></th>\n",
       "      <th></th>\n",
       "      <th></th>\n",
       "      <th></th>\n",
       "    </tr>\n",
       "  </thead>\n",
       "  <tbody>\n",
       "    <tr>\n",
       "      <th>1970-01-01</th>\n",
       "      <td>0.0</td>\n",
       "      <td>5.0</td>\n",
       "      <td>-0.6</td>\n",
       "      <td>0.6</td>\n",
       "    </tr>\n",
       "    <tr>\n",
       "      <th>1970-01-02</th>\n",
       "      <td>1.8</td>\n",
       "      <td>0.6</td>\n",
       "      <td>1.1</td>\n",
       "      <td>1.7</td>\n",
       "    </tr>\n",
       "    <tr>\n",
       "      <th>1970-01-03</th>\n",
       "      <td>0.0</td>\n",
       "      <td>1.7</td>\n",
       "      <td>-5.0</td>\n",
       "      <td>-0.6</td>\n",
       "    </tr>\n",
       "    <tr>\n",
       "      <th>1970-01-04</th>\n",
       "      <td>0.0</td>\n",
       "      <td>-0.6</td>\n",
       "      <td>-3.3</td>\n",
       "      <td>-2.8</td>\n",
       "    </tr>\n",
       "    <tr>\n",
       "      <th>1970-01-05</th>\n",
       "      <td>8.4</td>\n",
       "      <td>-2.8</td>\n",
       "      <td>-6.7</td>\n",
       "      <td>-2.2</td>\n",
       "    </tr>\n",
       "    <tr>\n",
       "      <th>...</th>\n",
       "      <td>...</td>\n",
       "      <td>...</td>\n",
       "      <td>...</td>\n",
       "      <td>...</td>\n",
       "    </tr>\n",
       "    <tr>\n",
       "      <th>2019-12-26</th>\n",
       "      <td>0.6</td>\n",
       "      <td>11.5</td>\n",
       "      <td>1.6</td>\n",
       "      <td>11.3</td>\n",
       "    </tr>\n",
       "    <tr>\n",
       "      <th>2019-12-27</th>\n",
       "      <td>2.0</td>\n",
       "      <td>11.3</td>\n",
       "      <td>3.0</td>\n",
       "      <td>11.7</td>\n",
       "    </tr>\n",
       "    <tr>\n",
       "      <th>2019-12-28</th>\n",
       "      <td>0.0</td>\n",
       "      <td>11.7</td>\n",
       "      <td>5.8</td>\n",
       "      <td>10.8</td>\n",
       "    </tr>\n",
       "    <tr>\n",
       "      <th>2019-12-29</th>\n",
       "      <td>0.0</td>\n",
       "      <td>10.8</td>\n",
       "      <td>9.0</td>\n",
       "      <td>7.0</td>\n",
       "    </tr>\n",
       "    <tr>\n",
       "      <th>2019-12-30</th>\n",
       "      <td>0.0</td>\n",
       "      <td>7.0</td>\n",
       "      <td>8.8</td>\n",
       "      <td>7.0</td>\n",
       "    </tr>\n",
       "  </tbody>\n",
       "</table>\n",
       "<p>36283 rows × 4 columns</p>\n",
       "</div>"
      ],
      "text/plain": [
       "            precip  temp_max  temp_min  target\n",
       "DATE                                          \n",
       "1970-01-01     0.0       5.0      -0.6     0.6\n",
       "1970-01-02     1.8       0.6       1.1     1.7\n",
       "1970-01-03     0.0       1.7      -5.0    -0.6\n",
       "1970-01-04     0.0      -0.6      -3.3    -2.8\n",
       "1970-01-05     8.4      -2.8      -6.7    -2.2\n",
       "...            ...       ...       ...     ...\n",
       "2019-12-26     0.6      11.5       1.6    11.3\n",
       "2019-12-27     2.0      11.3       3.0    11.7\n",
       "2019-12-28     0.0      11.7       5.8    10.8\n",
       "2019-12-29     0.0      10.8       9.0     7.0\n",
       "2019-12-30     0.0       7.0       8.8     7.0\n",
       "\n",
       "[36283 rows x 4 columns]"
      ]
     },
     "execution_count": 56,
     "metadata": {},
     "output_type": "execute_result"
    }
   ],
   "source": [
    "core_weather"
   ]
  },
  {
   "cell_type": "markdown",
   "id": "2e908f67",
   "metadata": {},
   "source": [
    "### Ridge Regression Model\n",
    "\n",
    "We will first use a ridge regression model for prediction. Ridge regression shrinks the effects of some of the variables in the model using an L2 regularisation method (but never reduces the effects to zero, like Lasso regression does). This effectively reduces the complexity of the model. Reducing the complexity may be preferable since in building machine learning models, we want to build a model that strikes a good bias-variance tradeoff. We don't want the models to overfit to the training data and thus result in a lower predictive power. We want to build a model that can perform well on test data – ridge regression is a way to achieve this balance."
   ]
  },
  {
   "cell_type": "markdown",
   "id": "ac2b9aee",
   "metadata": {},
   "source": [
    "#### Prep dataset for prediction"
   ]
  },
  {
   "cell_type": "code",
   "execution_count": 59,
   "id": "a737947d",
   "metadata": {},
   "outputs": [],
   "source": [
    "## We will use all the data up until the end of 2018 in the training dataset. We use the 2019 as test data.\n",
    "predictors = [\"precip\", \"temp_max\", \"temp_min\"]\n",
    "train = core_weather.loc[:\"2018-12-31\"]\n",
    "test = core_weather.loc[\"2019-01-01\":]"
   ]
  },
  {
   "cell_type": "code",
   "execution_count": 60,
   "id": "3fa47a42",
   "metadata": {},
   "outputs": [
    {
     "data": {
      "text/html": [
       "<div>\n",
       "<style scoped>\n",
       "    .dataframe tbody tr th:only-of-type {\n",
       "        vertical-align: middle;\n",
       "    }\n",
       "\n",
       "    .dataframe tbody tr th {\n",
       "        vertical-align: top;\n",
       "    }\n",
       "\n",
       "    .dataframe thead th {\n",
       "        text-align: right;\n",
       "    }\n",
       "</style>\n",
       "<table border=\"1\" class=\"dataframe\">\n",
       "  <thead>\n",
       "    <tr style=\"text-align: right;\">\n",
       "      <th></th>\n",
       "      <th>precip</th>\n",
       "      <th>temp_max</th>\n",
       "      <th>temp_min</th>\n",
       "      <th>target</th>\n",
       "    </tr>\n",
       "    <tr>\n",
       "      <th>DATE</th>\n",
       "      <th></th>\n",
       "      <th></th>\n",
       "      <th></th>\n",
       "      <th></th>\n",
       "    </tr>\n",
       "  </thead>\n",
       "  <tbody>\n",
       "    <tr>\n",
       "      <th>1970-01-01</th>\n",
       "      <td>0.0</td>\n",
       "      <td>5.0</td>\n",
       "      <td>-0.6</td>\n",
       "      <td>0.6</td>\n",
       "    </tr>\n",
       "    <tr>\n",
       "      <th>1970-01-02</th>\n",
       "      <td>1.8</td>\n",
       "      <td>0.6</td>\n",
       "      <td>1.1</td>\n",
       "      <td>1.7</td>\n",
       "    </tr>\n",
       "    <tr>\n",
       "      <th>1970-01-03</th>\n",
       "      <td>0.0</td>\n",
       "      <td>1.7</td>\n",
       "      <td>-5.0</td>\n",
       "      <td>-0.6</td>\n",
       "    </tr>\n",
       "    <tr>\n",
       "      <th>1970-01-04</th>\n",
       "      <td>0.0</td>\n",
       "      <td>-0.6</td>\n",
       "      <td>-3.3</td>\n",
       "      <td>-2.8</td>\n",
       "    </tr>\n",
       "    <tr>\n",
       "      <th>1970-01-05</th>\n",
       "      <td>8.4</td>\n",
       "      <td>-2.8</td>\n",
       "      <td>-6.7</td>\n",
       "      <td>-2.2</td>\n",
       "    </tr>\n",
       "    <tr>\n",
       "      <th>...</th>\n",
       "      <td>...</td>\n",
       "      <td>...</td>\n",
       "      <td>...</td>\n",
       "      <td>...</td>\n",
       "    </tr>\n",
       "    <tr>\n",
       "      <th>2018-12-27</th>\n",
       "      <td>0.0</td>\n",
       "      <td>12.2</td>\n",
       "      <td>7.7</td>\n",
       "      <td>10.9</td>\n",
       "    </tr>\n",
       "    <tr>\n",
       "      <th>2018-12-28</th>\n",
       "      <td>2.4</td>\n",
       "      <td>10.9</td>\n",
       "      <td>8.5</td>\n",
       "      <td>11.5</td>\n",
       "    </tr>\n",
       "    <tr>\n",
       "      <th>2018-12-29</th>\n",
       "      <td>0.4</td>\n",
       "      <td>11.5</td>\n",
       "      <td>5.0</td>\n",
       "      <td>11.5</td>\n",
       "    </tr>\n",
       "    <tr>\n",
       "      <th>2018-12-30</th>\n",
       "      <td>0.0</td>\n",
       "      <td>11.5</td>\n",
       "      <td>6.2</td>\n",
       "      <td>7.0</td>\n",
       "    </tr>\n",
       "    <tr>\n",
       "      <th>2018-12-31</th>\n",
       "      <td>0.0</td>\n",
       "      <td>7.0</td>\n",
       "      <td>9.4</td>\n",
       "      <td>1.8</td>\n",
       "    </tr>\n",
       "  </tbody>\n",
       "</table>\n",
       "<p>35587 rows × 4 columns</p>\n",
       "</div>"
      ],
      "text/plain": [
       "            precip  temp_max  temp_min  target\n",
       "DATE                                          \n",
       "1970-01-01     0.0       5.0      -0.6     0.6\n",
       "1970-01-02     1.8       0.6       1.1     1.7\n",
       "1970-01-03     0.0       1.7      -5.0    -0.6\n",
       "1970-01-04     0.0      -0.6      -3.3    -2.8\n",
       "1970-01-05     8.4      -2.8      -6.7    -2.2\n",
       "...            ...       ...       ...     ...\n",
       "2018-12-27     0.0      12.2       7.7    10.9\n",
       "2018-12-28     2.4      10.9       8.5    11.5\n",
       "2018-12-29     0.4      11.5       5.0    11.5\n",
       "2018-12-30     0.0      11.5       6.2     7.0\n",
       "2018-12-31     0.0       7.0       9.4     1.8\n",
       "\n",
       "[35587 rows x 4 columns]"
      ]
     },
     "execution_count": 60,
     "metadata": {},
     "output_type": "execute_result"
    }
   ],
   "source": [
    "train"
   ]
  },
  {
   "cell_type": "code",
   "execution_count": 61,
   "id": "9b2f1a8e",
   "metadata": {},
   "outputs": [
    {
     "data": {
      "text/html": [
       "<div>\n",
       "<style scoped>\n",
       "    .dataframe tbody tr th:only-of-type {\n",
       "        vertical-align: middle;\n",
       "    }\n",
       "\n",
       "    .dataframe tbody tr th {\n",
       "        vertical-align: top;\n",
       "    }\n",
       "\n",
       "    .dataframe thead th {\n",
       "        text-align: right;\n",
       "    }\n",
       "</style>\n",
       "<table border=\"1\" class=\"dataframe\">\n",
       "  <thead>\n",
       "    <tr style=\"text-align: right;\">\n",
       "      <th></th>\n",
       "      <th>precip</th>\n",
       "      <th>temp_max</th>\n",
       "      <th>temp_min</th>\n",
       "      <th>target</th>\n",
       "    </tr>\n",
       "    <tr>\n",
       "      <th>DATE</th>\n",
       "      <th></th>\n",
       "      <th></th>\n",
       "      <th></th>\n",
       "      <th></th>\n",
       "    </tr>\n",
       "  </thead>\n",
       "  <tbody>\n",
       "    <tr>\n",
       "      <th>2019-01-01</th>\n",
       "      <td>0.0</td>\n",
       "      <td>1.3</td>\n",
       "      <td>7.5</td>\n",
       "      <td>6.2</td>\n",
       "    </tr>\n",
       "    <tr>\n",
       "      <th>2019-01-02</th>\n",
       "      <td>0.0</td>\n",
       "      <td>6.2</td>\n",
       "      <td>-5.6</td>\n",
       "      <td>6.5</td>\n",
       "    </tr>\n",
       "    <tr>\n",
       "      <th>2019-01-03</th>\n",
       "      <td>0.0</td>\n",
       "      <td>6.5</td>\n",
       "      <td>-5.0</td>\n",
       "      <td>6.4</td>\n",
       "    </tr>\n",
       "    <tr>\n",
       "      <th>2019-01-04</th>\n",
       "      <td>0.0</td>\n",
       "      <td>6.4</td>\n",
       "      <td>1.3</td>\n",
       "      <td>10.8</td>\n",
       "    </tr>\n",
       "    <tr>\n",
       "      <th>2019-01-05</th>\n",
       "      <td>0.0</td>\n",
       "      <td>10.8</td>\n",
       "      <td>1.5</td>\n",
       "      <td>10.2</td>\n",
       "    </tr>\n",
       "    <tr>\n",
       "      <th>...</th>\n",
       "      <td>...</td>\n",
       "      <td>...</td>\n",
       "      <td>...</td>\n",
       "      <td>...</td>\n",
       "    </tr>\n",
       "    <tr>\n",
       "      <th>2019-12-26</th>\n",
       "      <td>0.6</td>\n",
       "      <td>11.5</td>\n",
       "      <td>1.6</td>\n",
       "      <td>11.3</td>\n",
       "    </tr>\n",
       "    <tr>\n",
       "      <th>2019-12-27</th>\n",
       "      <td>2.0</td>\n",
       "      <td>11.3</td>\n",
       "      <td>3.0</td>\n",
       "      <td>11.7</td>\n",
       "    </tr>\n",
       "    <tr>\n",
       "      <th>2019-12-28</th>\n",
       "      <td>0.0</td>\n",
       "      <td>11.7</td>\n",
       "      <td>5.8</td>\n",
       "      <td>10.8</td>\n",
       "    </tr>\n",
       "    <tr>\n",
       "      <th>2019-12-29</th>\n",
       "      <td>0.0</td>\n",
       "      <td>10.8</td>\n",
       "      <td>9.0</td>\n",
       "      <td>7.0</td>\n",
       "    </tr>\n",
       "    <tr>\n",
       "      <th>2019-12-30</th>\n",
       "      <td>0.0</td>\n",
       "      <td>7.0</td>\n",
       "      <td>8.8</td>\n",
       "      <td>7.0</td>\n",
       "    </tr>\n",
       "  </tbody>\n",
       "</table>\n",
       "<p>696 rows × 4 columns</p>\n",
       "</div>"
      ],
      "text/plain": [
       "            precip  temp_max  temp_min  target\n",
       "DATE                                          \n",
       "2019-01-01     0.0       1.3       7.5     6.2\n",
       "2019-01-02     0.0       6.2      -5.6     6.5\n",
       "2019-01-03     0.0       6.5      -5.0     6.4\n",
       "2019-01-04     0.0       6.4       1.3    10.8\n",
       "2019-01-05     0.0      10.8       1.5    10.2\n",
       "...            ...       ...       ...     ...\n",
       "2019-12-26     0.6      11.5       1.6    11.3\n",
       "2019-12-27     2.0      11.3       3.0    11.7\n",
       "2019-12-28     0.0      11.7       5.8    10.8\n",
       "2019-12-29     0.0      10.8       9.0     7.0\n",
       "2019-12-30     0.0       7.0       8.8     7.0\n",
       "\n",
       "[696 rows x 4 columns]"
      ]
     },
     "execution_count": 61,
     "metadata": {},
     "output_type": "execute_result"
    }
   ],
   "source": [
    "test"
   ]
  },
  {
   "cell_type": "code",
   "execution_count": 85,
   "id": "0cdd936a",
   "metadata": {},
   "outputs": [],
   "source": [
    "## Now let's run the model\n",
    "reg = Ridge(alpha=0.1)\n",
    "reg.fit(train[predictors],train['target'])\n",
    "model_predictions = reg.predict(test[predictors])"
   ]
  },
  {
   "cell_type": "markdown",
   "id": "9cc2c443",
   "metadata": {},
   "source": [
    "Now that the model is run, we use the RMSE metric to assess predictive performance. RMSE takes the square root of the popular MSE metric – and gives an indication of the performance in the same unit as the target variable, making it easier to interpret\n",
    "\n"
   ]
  },
  {
   "cell_type": "code",
   "execution_count": 86,
   "id": "215f2bb1",
   "metadata": {},
   "outputs": [
    {
     "name": "stdout",
     "output_type": "stream",
     "text": [
      "2.3164688467657113\n"
     ]
    }
   ],
   "source": [
    "model_rmse = math.sqrt(mean_squared_error(test['target'],model_predictions))\n",
    "print(model_rmse)"
   ]
  },
  {
   "cell_type": "markdown",
   "id": "a1681fff",
   "metadata": {},
   "source": [
    "Let's see how the prediction stack up to actual values in a chart"
   ]
  },
  {
   "cell_type": "code",
   "execution_count": 71,
   "id": "4409be5c",
   "metadata": {},
   "outputs": [
    {
     "data": {
      "text/html": [
       "<div>\n",
       "<style scoped>\n",
       "    .dataframe tbody tr th:only-of-type {\n",
       "        vertical-align: middle;\n",
       "    }\n",
       "\n",
       "    .dataframe tbody tr th {\n",
       "        vertical-align: top;\n",
       "    }\n",
       "\n",
       "    .dataframe thead th {\n",
       "        text-align: right;\n",
       "    }\n",
       "</style>\n",
       "<table border=\"1\" class=\"dataframe\">\n",
       "  <thead>\n",
       "    <tr style=\"text-align: right;\">\n",
       "      <th></th>\n",
       "      <th>actual</th>\n",
       "      <th>predictions</th>\n",
       "    </tr>\n",
       "    <tr>\n",
       "      <th>DATE</th>\n",
       "      <th></th>\n",
       "      <th></th>\n",
       "    </tr>\n",
       "  </thead>\n",
       "  <tbody>\n",
       "    <tr>\n",
       "      <th>2019-01-01</th>\n",
       "      <td>6.2</td>\n",
       "      <td>3.283459</td>\n",
       "    </tr>\n",
       "    <tr>\n",
       "      <th>2019-01-02</th>\n",
       "      <td>6.5</td>\n",
       "      <td>6.130998</td>\n",
       "    </tr>\n",
       "    <tr>\n",
       "      <th>2019-01-03</th>\n",
       "      <td>6.4</td>\n",
       "      <td>6.441119</td>\n",
       "    </tr>\n",
       "    <tr>\n",
       "      <th>2019-01-04</th>\n",
       "      <td>10.8</td>\n",
       "      <td>6.967245</td>\n",
       "    </tr>\n",
       "    <tr>\n",
       "      <th>2019-01-05</th>\n",
       "      <td>10.2</td>\n",
       "      <td>10.682815</td>\n",
       "    </tr>\n",
       "    <tr>\n",
       "      <th>...</th>\n",
       "      <td>...</td>\n",
       "      <td>...</td>\n",
       "    </tr>\n",
       "    <tr>\n",
       "      <th>2019-12-26</th>\n",
       "      <td>11.3</td>\n",
       "      <td>11.282054</td>\n",
       "    </tr>\n",
       "    <tr>\n",
       "      <th>2019-12-27</th>\n",
       "      <td>11.7</td>\n",
       "      <td>11.253180</td>\n",
       "    </tr>\n",
       "    <tr>\n",
       "      <th>2019-12-28</th>\n",
       "      <td>10.8</td>\n",
       "      <td>11.855295</td>\n",
       "    </tr>\n",
       "    <tr>\n",
       "      <th>2019-12-29</th>\n",
       "      <td>7.0</td>\n",
       "      <td>11.409161</td>\n",
       "    </tr>\n",
       "    <tr>\n",
       "      <th>2019-12-30</th>\n",
       "      <td>7.0</td>\n",
       "      <td>8.197619</td>\n",
       "    </tr>\n",
       "  </tbody>\n",
       "</table>\n",
       "<p>696 rows × 2 columns</p>\n",
       "</div>"
      ],
      "text/plain": [
       "            actual  predictions\n",
       "DATE                           \n",
       "2019-01-01     6.2     3.283459\n",
       "2019-01-02     6.5     6.130998\n",
       "2019-01-03     6.4     6.441119\n",
       "2019-01-04    10.8     6.967245\n",
       "2019-01-05    10.2    10.682815\n",
       "...            ...          ...\n",
       "2019-12-26    11.3    11.282054\n",
       "2019-12-27    11.7    11.253180\n",
       "2019-12-28    10.8    11.855295\n",
       "2019-12-29     7.0    11.409161\n",
       "2019-12-30     7.0     8.197619\n",
       "\n",
       "[696 rows x 2 columns]"
      ]
     },
     "execution_count": 71,
     "metadata": {},
     "output_type": "execute_result"
    }
   ],
   "source": [
    "combined = pd.concat([test['target'],pd.Series(model_predictions,index=test.index)], axis=1)\n",
    "combined.columns = ['actual','predictions']\n",
    "combined"
   ]
  },
  {
   "cell_type": "code",
   "execution_count": 72,
   "id": "57972765",
   "metadata": {},
   "outputs": [
    {
     "data": {
      "text/plain": [
       "<AxesSubplot:xlabel='DATE'>"
      ]
     },
     "execution_count": 72,
     "metadata": {},
     "output_type": "execute_result"
    },
    {
     "data": {
      "image/png": "[encoded data removed]",
      "text/plain": [
       "<Figure size 432x288 with 1 Axes>"
      ]
     },
     "metadata": {
      "needs_background": "light"
     },
     "output_type": "display_data"
    }
   ],
   "source": [
    "combined.plot()"
   ]
  },
  {
   "cell_type": "markdown",
   "id": "772c25e3",
   "metadata": {},
   "source": [
    "Great! We have built a rough ridge regression model to predict weather. From the plot above, we can see that the predictions and the actual values line up pretty well.\n",
    "\n",
    "There are other improvements that can be made to the model – which I will be adding below:\n",
    "- engineering features: what features can we add from this dataset (e.g. monthly average? day of the year average?)\n",
    "- can we use other regression models, e.g. "
   ]
  }
 ],
 "metadata": {
  "kernelspec": {
   "display_name": "Python 3",
   "language": "python",
   "name": "python3"
  },
  "language_info": {
   "codemirror_mode": {
    "name": "ipython",
    "version": 3
   },
   "file_extension": ".py",
   "mimetype": "text/x-python",
   "name": "python",
   "nbconvert_exporter": "python",
   "pygments_lexer": "ipython3",
   "version": "3.8.2"
  }
 },
 "nbformat": 4,
 "nbformat_minor": 5
}
